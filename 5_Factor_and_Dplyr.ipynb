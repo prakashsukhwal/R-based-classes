{
  "nbformat": 4,
  "nbformat_minor": 0,
  "metadata": {
    "kernelspec": {
      "display_name": "R",
      "language": "R",
      "name": "ir"
    },
    "language_info": {
      "codemirror_mode": "r",
      "file_extension": ".r",
      "mimetype": "text/x-r-source",
      "name": "R",
      "pygments_lexer": "r",
      "version": "3.6.1"
    },
    "colab": {
      "name": "5. Factor and Dplyr.ipynb",
      "provenance": [],
      "collapsed_sections": [
        "Wf_CfZj7gtsA",
        "GeUJqNRpgtsA"
      ],
      "toc_visible": true,
      "include_colab_link": true
    }
  },
  "cells": [
    {
      "cell_type": "markdown",
      "metadata": {
        "id": "view-in-github",
        "colab_type": "text"
      },
      "source": [
        "<a href=\"https://colab.research.google.com/github/prakashsukhwal/R-based-classes/blob/main/5_Factor_and_Dplyr.ipynb\" target=\"_parent\"><img src=\"https://colab.research.google.com/assets/colab-badge.svg\" alt=\"Open In Colab\"/></a>"
      ]
    },
    {
      "cell_type": "markdown",
      "metadata": {
        "id": "H91liEQhhF9G"
      },
      "source": [
        "# 5. Factor\n",
        "\n",
        "## Use the Link below to create more R notebooks\n",
        "### Note: do not forget to save your work in your google drive\n",
        "\n",
        "[Use R on Google Colab!](https://colab.research.google.com/notebook#create=true&language=r)"
      ]
    },
    {
      "cell_type": "code",
      "metadata": {
        "id": "RP9UPj00hSBa"
      },
      "source": [
        "# uncomment run the code below only if you do not have 'pacman' installed\n",
        "install.packages('pacman', repos = \"http://cran.us.r-project.org\")"
      ],
      "execution_count": null,
      "outputs": []
    },
    {
      "cell_type": "code",
      "metadata": {
        "id": "Q2ry31Ptgtrx"
      },
      "source": [
        "pacman::p_load(tidyverse,plyr, nycflights13)"
      ],
      "execution_count": null,
      "outputs": []
    },
    {
      "cell_type": "markdown",
      "metadata": {
        "id": "2X9-fIhugtr1"
      },
      "source": [
        "## Factor\n",
        "### Create Nominal"
      ]
    },
    {
      "cell_type": "code",
      "metadata": {
        "id": "YQqZdo5kgtr1"
      },
      "source": [
        "client_races = factor(c('European', 'Asian', 'American', \n",
        "                        'Asian', 'European'))"
      ],
      "execution_count": null,
      "outputs": []
    },
    {
      "cell_type": "code",
      "metadata": {
        "id": "zqWKvg9Wgtr2"
      },
      "source": [
        "str(client_races)"
      ],
      "execution_count": null,
      "outputs": []
    },
    {
      "cell_type": "markdown",
      "metadata": {
        "id": "AbNuzlDVgtr3"
      },
      "source": [
        "## Class & Levels"
      ]
    },
    {
      "cell_type": "code",
      "metadata": {
        "id": "mHzgR-fygtr4"
      },
      "source": [
        "attributes(client_races)"
      ],
      "execution_count": null,
      "outputs": []
    },
    {
      "cell_type": "code",
      "metadata": {
        "id": "LozrxgPOgtr4"
      },
      "source": [
        "class(client_races)"
      ],
      "execution_count": null,
      "outputs": []
    },
    {
      "cell_type": "code",
      "metadata": {
        "id": "eCyE096vgtr5"
      },
      "source": [
        "levels(client_races)"
      ],
      "execution_count": null,
      "outputs": []
    },
    {
      "cell_type": "code",
      "metadata": {
        "id": "IxESInkpgtr5"
      },
      "source": [
        "typeof(client_races)"
      ],
      "execution_count": null,
      "outputs": []
    },
    {
      "cell_type": "code",
      "metadata": {
        "id": "oiCHhc14gtr5"
      },
      "source": [
        "unclass(client_races)"
      ],
      "execution_count": null,
      "outputs": []
    },
    {
      "cell_type": "markdown",
      "metadata": {
        "id": "-J3mRXvkgtr6"
      },
      "source": [
        "## Create Ordinal  "
      ]
    },
    {
      "cell_type": "code",
      "metadata": {
        "id": "lWLvYDxRgtr6"
      },
      "source": [
        "client_level = factor(c('low', 'low', 'medium', 'high', 'medium'),\n",
        "                     levels = c('low', 'medium', 'high'),\n",
        "                     ordered = T)"
      ],
      "execution_count": null,
      "outputs": []
    },
    {
      "cell_type": "code",
      "metadata": {
        "id": "rIyJJI5Ggtr6"
      },
      "source": [
        "str(client_level)"
      ],
      "execution_count": null,
      "outputs": []
    },
    {
      "cell_type": "code",
      "metadata": {
        "id": "e45vPlMJgtr6"
      },
      "source": [
        "attributes(client_level)"
      ],
      "execution_count": null,
      "outputs": []
    },
    {
      "cell_type": "markdown",
      "metadata": {
        "id": "uPtO1Bkigtr7"
      },
      "source": [
        "## Revalue Levels  "
      ]
    },
    {
      "cell_type": "code",
      "metadata": {
        "id": "lAIzvHVPgtr7"
      },
      "source": [
        "revalue(client_level, c('low' = 'L',\n",
        "                        medium = 'M', \n",
        "                        high = 'H' ))\n",
        "levels(client_level)"
      ],
      "execution_count": null,
      "outputs": []
    },
    {
      "cell_type": "code",
      "metadata": {
        "id": "m1gIv3pNgtr7"
      },
      "source": [
        "client_level = factor(c('low', 'low', 'medium', 'high', 'medium'),\n",
        "                     levels = c('low', 'medium', 'high'),\n",
        "                     ordered = T)"
      ],
      "execution_count": null,
      "outputs": []
    },
    {
      "cell_type": "code",
      "metadata": {
        "id": "IpGarhG_gtr8"
      },
      "source": [
        "dplyr::recode(client_level, 'low' = 'L',\n",
        "                        medium = 'M', \n",
        "                        high = 'H' )"
      ],
      "execution_count": null,
      "outputs": []
    },
    {
      "cell_type": "code",
      "metadata": {
        "id": "UCxY8tYFgtr8"
      },
      "source": [
        "levels(client_level)"
      ],
      "execution_count": null,
      "outputs": []
    },
    {
      "cell_type": "markdown",
      "metadata": {
        "id": "felrsflkgtr-"
      },
      "source": [
        "## dplyr 101\n",
        "    1. select\n",
        "    2. filter \n",
        "    3. summarise\n",
        "    4. arrange \n",
        "    5. mutate \n",
        "    6. group_by"
      ]
    },
    {
      "cell_type": "code",
      "metadata": {
        "id": "ejxC7B4Egtr_"
      },
      "source": [
        "# Read in the dataset\n",
        "titanic = read.csv('https://docs.google.com/spreadsheets/d/e/2PACX-1vTKBjG8bVvhznEgkpUhWZCnUxZ-aIuVsbc3nqJppOGv-c6Q4mLJeUXCOww-ABxdFcvF21WwQMrfvD78/pub?gid=1378155968&single=true&output=csv', \n",
        "                   na.strings=c(\"\"))"
      ],
      "execution_count": null,
      "outputs": []
    },
    {
      "cell_type": "code",
      "metadata": {
        "id": "0JDXZMjygtr_"
      },
      "source": [
        "# print the structure of dataset\n",
        "str(titanic)"
      ],
      "execution_count": null,
      "outputs": []
    },
    {
      "cell_type": "code",
      "metadata": {
        "id": "uRxuMTDlnAVj"
      },
      "source": [
        "head(titanic,4)"
      ],
      "execution_count": null,
      "outputs": []
    },
    {
      "cell_type": "code",
      "metadata": {
        "id": "ASt0m9P6gtr_"
      },
      "source": [
        "summary(titanic)"
      ],
      "execution_count": null,
      "outputs": []
    },
    {
      "cell_type": "code",
      "metadata": {
        "id": "lRUiukRckKKY"
      },
      "source": [
        "# print column names\n",
        "names(titanic)\n",
        "colnames(titanic)"
      ],
      "execution_count": null,
      "outputs": []
    },
    {
      "cell_type": "markdown",
      "metadata": {
        "id": "A21W9PJnkKAa"
      },
      "source": [
        "### set proper data types"
      ]
    },
    {
      "cell_type": "code",
      "metadata": {
        "id": "Sbtfv5OVkKDA"
      },
      "source": [
        "cols_to_change = c('pclass','survived', 'embarked')\n",
        "\n",
        "# check\n",
        "sapply(titanic[cols_to_change], class)"
      ],
      "execution_count": null,
      "outputs": []
    },
    {
      "cell_type": "code",
      "metadata": {
        "id": "ZYleXzuJkKH8"
      },
      "source": [
        "titanic[cols_to_change] = lapply(titanic[cols_to_change], factor)\n",
        "# check\n",
        "sapply(titanic[cols_to_change], class)"
      ],
      "execution_count": null,
      "outputs": []
    },
    {
      "cell_type": "code",
      "metadata": {
        "id": "NytSuc7VlXBb"
      },
      "source": [
        "# base function summary()\n",
        "summary(titanic)"
      ],
      "execution_count": null,
      "outputs": []
    },
    {
      "cell_type": "code",
      "metadata": {
        "id": "9Hu-kyZylXDp"
      },
      "source": [
        "# Summary by a grouped column\n",
        "# column: embarked\n",
        "# method: summarise_all() [dplyr]\n",
        "\n",
        "titanic %>%\n",
        "group_by(embarked) %>%\n",
        "summarise_all(mean)"
      ],
      "execution_count": null,
      "outputs": []
    },
    {
      "cell_type": "markdown",
      "metadata": {
        "id": "PL6Kf6MMl6qa"
      },
      "source": [
        "\n",
        ">using summarise_all() on non-numeric col results in errors\n"
      ]
    },
    {
      "cell_type": "code",
      "metadata": {
        "id": "81nLMCpTlXGL"
      },
      "source": [
        "# Summary by a grouped column\n",
        "# column: embarked\n",
        "# method: summarise_if() [dplyr]\n",
        "\n",
        "titanic %>%\n",
        "group_by(embarked) %>%\n",
        "summarise_if(is.numeric, mean, na.rm = T)"
      ],
      "execution_count": null,
      "outputs": []
    },
    {
      "cell_type": "code",
      "metadata": {
        "id": "xHQg2IUElXJE"
      },
      "source": [
        "# including multiple measures\n",
        "# mean, median, max etc.\n",
        "titanic %>%\n",
        "group_by(embarked) %>%\n",
        "summarise_if(is.numeric, funs(mean, median, max), na.rm = T)"
      ],
      "execution_count": null,
      "outputs": []
    },
    {
      "cell_type": "markdown",
      "metadata": {
        "id": "0k92fmcXlXLO"
      },
      "source": [
        "### proportion of missing"
      ]
    },
    {
      "cell_type": "code",
      "metadata": {
        "id": "ccHXud51lXNS"
      },
      "source": [
        "# compute the proportion of missing data\n",
        "# use complete.cases(.)\n",
        "options(digits=5)\n",
        "missing = titanic %>%\n",
        "          filter(!complete.cases(.))\n",
        "\n",
        "# proportion\n",
        "\n",
        "nrow(missing)/nrow(titanic)"
      ],
      "execution_count": null,
      "outputs": []
    },
    {
      "cell_type": "code",
      "metadata": {
        "id": "yCyKW5sRlXU5"
      },
      "source": [
        "# go by columns \n",
        "# compute missing proportions\n",
        "\n",
        "colMeans(is.na(titanic))"
      ],
      "execution_count": null,
      "outputs": []
    },
    {
      "cell_type": "code",
      "metadata": {
        "id": "7GXw33IKqsHt"
      },
      "source": [
        "names(titanic)"
      ],
      "execution_count": null,
      "outputs": []
    },
    {
      "cell_type": "code",
      "metadata": {
        "id": "XW9yRpSukKNh"
      },
      "source": [
        "# counts of embarked\n",
        "titanic %>%\n",
        "dplyr::count(embarked)"
      ],
      "execution_count": null,
      "outputs": []
    },
    {
      "cell_type": "code",
      "metadata": {
        "id": "8AjKWcpWp7qm"
      },
      "source": [
        "titanic %>%\n",
        "filter(embarked != 'NA')%>%\n",
        "dplyr::count(embarked)"
      ],
      "execution_count": null,
      "outputs": []
    },
    {
      "cell_type": "code",
      "metadata": {
        "id": "h3misKVep7vP"
      },
      "source": [
        "table(titanic$embarked)"
      ],
      "execution_count": null,
      "outputs": []
    },
    {
      "cell_type": "code",
      "metadata": {
        "id": "J_pVEuPJp7xu"
      },
      "source": [
        "aggregate(fare ~ pclass + sex, data = titanic, sum)"
      ],
      "execution_count": null,
      "outputs": []
    },
    {
      "cell_type": "code",
      "metadata": {
        "id": "RdBEAe2Yp7z1"
      },
      "source": [
        "aggregate(fare ~ pclass + sex + embarked, data = titanic, sum)"
      ],
      "execution_count": null,
      "outputs": []
    },
    {
      "cell_type": "code",
      "metadata": {
        "id": "3dbkk6c5p719"
      },
      "source": [
        "# proportion of male, female\n",
        "# survived in each class\n",
        "\n",
        "titanic%>%\n",
        "group_by(pclass, sex, survived)%>%\n",
        "dplyr::summarise(n = n())%>%\n",
        "mutate(freq = n / sum(n))"
      ],
      "execution_count": null,
      "outputs": []
    },
    {
      "cell_type": "code",
      "metadata": {
        "id": "niYo7sOnp74N"
      },
      "source": [
        "# top and bottom\n",
        "titanic %>%\n",
        "top_n(4, wt = age)\n",
        "\n",
        "titanic %>%\n",
        "top_n(-4, wt = age)"
      ],
      "execution_count": null,
      "outputs": []
    },
    {
      "cell_type": "code",
      "metadata": {
        "id": "9MraI3C2p76W"
      },
      "source": [
        "# challenge-1\n",
        "# find out the name, age of oldest passenger\n",
        "# did he/she survive?\n",
        "\n",
        "# ans: Barkworth, Mr. Algernon Henry Wilson\t80\t1"
      ],
      "execution_count": null,
      "outputs": []
    },
    {
      "cell_type": "code",
      "metadata": {
        "id": "1UNA9VOJp79A"
      },
      "source": [
        "# challenge-2\n",
        "# name, age of youngest passenger who didn't make it alive\n",
        "\n",
        "#Danbom, Master. Gilbert Sigvard Emanuel\t0.33"
      ],
      "execution_count": null,
      "outputs": []
    },
    {
      "cell_type": "code",
      "metadata": {
        "id": "I-ctOKOIp7_w"
      },
      "source": [
        ""
      ],
      "execution_count": null,
      "outputs": []
    },
    {
      "cell_type": "markdown",
      "metadata": {
        "id": "Z8t3kIAJgtsA"
      },
      "source": [
        "### Practice Exercise: NYC Flights Data"
      ]
    },
    {
      "cell_type": "markdown",
      "metadata": {
        "id": "Wf_CfZj7gtsA"
      },
      "source": [
        "####     1. Assign 'flights' data from package 'nycflights13' to a data frame and call it flights_data"
      ]
    },
    {
      "cell_type": "markdown",
      "metadata": {
        "id": "GeUJqNRpgtsA"
      },
      "source": [
        "#### 2. Explore the dataset for its structure and summary stats. Answer the following:\n",
        "    1) What is the dimension of this dataset?\n",
        "    2) Which columns would you rather assign as factors?\n",
        "    3) What is the percentage of values missing per column? \n",
        "    4) How can you create a proper date column in dataframe flights_data?"
      ]
    },
    {
      "cell_type": "markdown",
      "metadata": {
        "id": "VlpV9gSDgtsA"
      },
      "source": [
        "#### 3. More Questions\n",
        "    5) How many unique origins and unique destinations do we have?\n",
        "    6) Are all origins connected to other destinations?\n",
        "    7) Delay > 15 mins is an important KPI in aviation. What proportion of flights are delayed more than 15 mins?"
      ]
    }
  ]
}