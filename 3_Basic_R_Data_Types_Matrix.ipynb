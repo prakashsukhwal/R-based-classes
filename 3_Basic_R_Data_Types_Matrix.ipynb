{
  "nbformat": 4,
  "nbformat_minor": 0,
  "metadata": {
    "kernelspec": {
      "display_name": "R",
      "language": "R",
      "name": "ir"
    },
    "language_info": {
      "codemirror_mode": "r",
      "file_extension": ".r",
      "mimetype": "text/x-r-source",
      "name": "R",
      "pygments_lexer": "r",
      "version": "3.6.1"
    },
    "colab": {
      "name": "3. Basic R Data Types - Matrix.ipynb",
      "provenance": [],
      "collapsed_sections": [],
      "toc_visible": true,
      "include_colab_link": true
    }
  },
  "cells": [
    {
      "cell_type": "markdown",
      "metadata": {
        "id": "view-in-github",
        "colab_type": "text"
      },
      "source": [
        "<a href=\"https://colab.research.google.com/github/prakashsukhwal/R-based-classes/blob/main/3_Basic_R_Data_Types_Matrix.ipynb\" target=\"_parent\"><img src=\"https://colab.research.google.com/assets/colab-badge.svg\" alt=\"Open In Colab\"/></a>"
      ]
    },
    {
      "cell_type": "markdown",
      "metadata": {
        "id": "rtkIxNASasyJ"
      },
      "source": [
        "# 3. Matrix\n",
        "\n",
        "## Use the Link below to create more R notebooks\n",
        "### Note: do not forget to save your work in your google drive\n",
        "\n",
        "[Use R on Google Colab!](https://colab.research.google.com/notebook#create=true&language=r)"
      ]
    },
    {
      "cell_type": "code",
      "metadata": {
        "id": "IS6CRXO2alQw"
      },
      "source": [
        "a_matrix = matrix(1:10, nrow=2, ncol=5)\n",
        "a_matrix"
      ],
      "execution_count": null,
      "outputs": []
    },
    {
      "cell_type": "code",
      "metadata": {
        "id": "yoP1zy8salQz"
      },
      "source": [
        "str(a_matrix)"
      ],
      "execution_count": null,
      "outputs": []
    },
    {
      "cell_type": "code",
      "metadata": {
        "id": "PNTvUMWBalQ0"
      },
      "source": [
        "typeof(a_matrix)"
      ],
      "execution_count": null,
      "outputs": []
    },
    {
      "cell_type": "code",
      "metadata": {
        "id": "51AQABQIalQ0"
      },
      "source": [
        "attributes(a_matrix)"
      ],
      "execution_count": null,
      "outputs": []
    },
    {
      "cell_type": "code",
      "metadata": {
        "id": "vqNjUw-ZalQ1"
      },
      "source": [
        "is.matrix(a_matrix)"
      ],
      "execution_count": null,
      "outputs": []
    },
    {
      "cell_type": "code",
      "metadata": {
        "id": "lbdLrjUValQ1"
      },
      "source": [
        "is.integer(a_matrix)"
      ],
      "execution_count": null,
      "outputs": []
    },
    {
      "cell_type": "code",
      "metadata": {
        "id": "e_-YiNxQalQ1"
      },
      "source": [
        "dim(a_matrix)\n",
        "nrow(a_matrix)\n",
        "ncol(a_matrix)"
      ],
      "execution_count": null,
      "outputs": []
    },
    {
      "cell_type": "markdown",
      "metadata": {
        "id": "SfQIohFfalQ2"
      },
      "source": [
        "## Data Access"
      ]
    },
    {
      "cell_type": "code",
      "metadata": {
        "id": "KJGiA_DtalQ2"
      },
      "source": [
        "a_matrix = matrix(1:10, nrow=2, ncol=5)"
      ],
      "execution_count": null,
      "outputs": []
    },
    {
      "cell_type": "code",
      "metadata": {
        "id": "KBVTvp1JalQ2"
      },
      "source": [
        "a_matrix[1,]\n",
        "class(a_matrix[1,])"
      ],
      "execution_count": null,
      "outputs": []
    },
    {
      "cell_type": "code",
      "metadata": {
        "id": "BNFpFdxPalQ3"
      },
      "source": [
        "a_matrix[1, , drop = FALSE]"
      ],
      "execution_count": null,
      "outputs": []
    },
    {
      "cell_type": "code",
      "metadata": {
        "id": "q_iv36VPalQ3"
      },
      "source": [
        "a_matrix[c(1,2), 1:3]"
      ],
      "execution_count": null,
      "outputs": []
    },
    {
      "cell_type": "code",
      "metadata": {
        "id": "8fu_YnYvalQ3"
      },
      "source": [
        "a_matrix"
      ],
      "execution_count": null,
      "outputs": []
    },
    {
      "cell_type": "code",
      "metadata": {
        "id": "Z6r_KLpJalQ4"
      },
      "source": [
        "a_matrix[-1,, drop=F] # remove a row\n",
        "\n",
        "a_matrix[, -1, drop=F] # remove a col\n",
        "\n",
        "a_matrix[-1, -2:-4, drop=F] # remove a combination \n",
        "\n",
        "a_matrix"
      ],
      "execution_count": null,
      "outputs": []
    },
    {
      "cell_type": "code",
      "metadata": {
        "id": "d4uh4YCwalQ4"
      },
      "source": [
        "a_matrix[c(1,2), c(1)] = c(10,11)\n",
        "a_matrix"
      ],
      "execution_count": null,
      "outputs": []
    },
    {
      "cell_type": "code",
      "metadata": {
        "id": "g99rcPJWalQ4"
      },
      "source": [
        "cbind(a_matrix, 1) # col bind\n",
        "rbind(a_matrix, 1) # row bind\n",
        "a_matrix"
      ],
      "execution_count": null,
      "outputs": []
    }
  ]
}