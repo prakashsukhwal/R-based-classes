{
  "nbformat": 4,
  "nbformat_minor": 0,
  "metadata": {
    "kernelspec": {
      "display_name": "R",
      "language": "R",
      "name": "ir"
    },
    "language_info": {
      "codemirror_mode": "r",
      "file_extension": ".r",
      "mimetype": "text/x-r-source",
      "name": "R",
      "pygments_lexer": "r",
      "version": "3.6.1"
    },
    "colab": {
      "name": "1. Basic R Data Types - Vector.ipynb",
      "provenance": [],
      "collapsed_sections": [],
      "toc_visible": true,
      "include_colab_link": true
    }
  },
  "cells": [
    {
      "cell_type": "markdown",
      "metadata": {
        "id": "view-in-github",
        "colab_type": "text"
      },
      "source": [
        "<a href=\"https://colab.research.google.com/github/prakashsukhwal/R-based-classes/blob/main/1_Basic_R_Data_Types_Vector.ipynb\" target=\"_parent\"><img src=\"https://colab.research.google.com/assets/colab-badge.svg\" alt=\"Open In Colab\"/></a>"
      ]
    },
    {
      "cell_type": "markdown",
      "metadata": {
        "id": "7qRgMudfWabP"
      },
      "source": [
        "# 1. Vectors\n",
        "\n",
        "## Use the Link below to create more R notebooks\n",
        "### Note: do not forget to save your work in your google drive\n",
        "\n",
        "[Use R on Google Colab!](https://colab.research.google.com/notebook#create=true&language=r)"
      ]
    },
    {
      "cell_type": "markdown",
      "metadata": {
        "id": "pHB7ap096zLf"
      },
      "source": [
        ""
      ]
    },
    {
      "cell_type": "code",
      "metadata": {
        "id": "CrIB-2lw6dwn"
      },
      "source": [
        "R.version"
      ],
      "execution_count": null,
      "outputs": []
    },
    {
      "cell_type": "code",
      "metadata": {
        "id": "iAYXqxx37I-Q"
      },
      "source": [
        "install.packages('pacman')"
      ],
      "execution_count": null,
      "outputs": []
    },
    {
      "cell_type": "code",
      "metadata": {
        "id": "8quB1rMW7zgE"
      },
      "source": [
        "pacman::p_load(tidyverse, caret, corrplot, pryr) # might take a while in colab"
      ],
      "execution_count": null,
      "outputs": []
    },
    {
      "cell_type": "markdown",
      "metadata": {
        "id": "_3ds1Lva6dwr"
      },
      "source": [
        "## Character"
      ]
    },
    {
      "cell_type": "code",
      "metadata": {
        "id": "TQAobx4N6dws"
      },
      "source": [
        "char_vec = c(\"Hello,\", \"World!\")"
      ],
      "execution_count": null,
      "outputs": []
    },
    {
      "cell_type": "code",
      "metadata": {
        "id": "DpemqW9y7iWn"
      },
      "source": [
        "str(char_vec)"
      ],
      "execution_count": null,
      "outputs": []
    },
    {
      "cell_type": "code",
      "metadata": {
        "id": "o9TOia__6dws"
      },
      "source": [
        "char_vec[2]"
      ],
      "execution_count": null,
      "outputs": []
    },
    {
      "cell_type": "code",
      "metadata": {
        "id": "rzCocWb46dws"
      },
      "source": [
        "typeof(char_vec)"
      ],
      "execution_count": null,
      "outputs": []
    },
    {
      "cell_type": "code",
      "metadata": {
        "id": "bQhYXHxm6dwt"
      },
      "source": [
        "length(char_vec)"
      ],
      "execution_count": null,
      "outputs": []
    },
    {
      "cell_type": "code",
      "metadata": {
        "id": "aQMfgPEZ6dwt"
      },
      "source": [
        "attributes(char_vec)"
      ],
      "execution_count": null,
      "outputs": []
    },
    {
      "cell_type": "markdown",
      "metadata": {
        "id": "f747rtG-7XFj"
      },
      "source": [
        "### assign attribute using attr\n",
        "\n"
      ]
    },
    {
      "cell_type": "code",
      "metadata": {
        "id": "BX6E2r6n6dwt"
      },
      "source": [
        "#assign attribute using attr\n",
        "attr(char_vec, 'name') = 'a charcater vector'"
      ],
      "execution_count": null,
      "outputs": []
    },
    {
      "cell_type": "code",
      "metadata": {
        "id": "2yDknllZ6dwu"
      },
      "source": [
        "attributes(char_vec)"
      ],
      "execution_count": null,
      "outputs": []
    },
    {
      "cell_type": "code",
      "metadata": {
        "id": "V73bfHQS6dwu"
      },
      "source": [
        "str(char_vec)"
      ],
      "execution_count": null,
      "outputs": []
    },
    {
      "cell_type": "code",
      "metadata": {
        "id": "-7OHfOmS6dwu"
      },
      "source": [
        "is.character(char_vec)"
      ],
      "execution_count": null,
      "outputs": []
    },
    {
      "cell_type": "markdown",
      "metadata": {
        "id": "SvpuziUf6dwv"
      },
      "source": [
        "## Numeric"
      ]
    },
    {
      "cell_type": "code",
      "metadata": {
        "id": "llDELb9e6dwv"
      },
      "source": [
        "num_vec = c(10, 11, 12)"
      ],
      "execution_count": null,
      "outputs": []
    },
    {
      "cell_type": "code",
      "metadata": {
        "id": "4GLnyWhN6dwv"
      },
      "source": [
        "str(num_vec)"
      ],
      "execution_count": null,
      "outputs": []
    },
    {
      "cell_type": "code",
      "metadata": {
        "id": "fOTlQMOj6dww"
      },
      "source": [
        "typeof(num_vec)"
      ],
      "execution_count": null,
      "outputs": []
    },
    {
      "cell_type": "code",
      "metadata": {
        "id": "AYn7IcBj6dww"
      },
      "source": [
        "length(num_vec)"
      ],
      "execution_count": null,
      "outputs": []
    },
    {
      "cell_type": "code",
      "metadata": {
        "id": "-4EoFfKf6dww"
      },
      "source": [
        "attributes(num_vec)"
      ],
      "execution_count": null,
      "outputs": []
    },
    {
      "cell_type": "code",
      "metadata": {
        "id": "SAqZTuZh6dww"
      },
      "source": [
        "is.double(num_vec)"
      ],
      "execution_count": null,
      "outputs": []
    },
    {
      "cell_type": "code",
      "metadata": {
        "id": "Sg9U4rXp6dwx"
      },
      "source": [
        "##### Integer"
      ],
      "execution_count": null,
      "outputs": []
    },
    {
      "cell_type": "code",
      "metadata": {
        "id": "IX-qJMlt6dwx"
      },
      "source": [
        "int_vec = c(10L, 11L, 12L)"
      ],
      "execution_count": null,
      "outputs": []
    },
    {
      "cell_type": "code",
      "metadata": {
        "id": "bWqZXWco6dwx"
      },
      "source": [
        "str(int_vec)"
      ],
      "execution_count": null,
      "outputs": []
    },
    {
      "cell_type": "code",
      "metadata": {
        "id": "iNEa-Vjg6dwx"
      },
      "source": [
        "typeof(int_vec)"
      ],
      "execution_count": null,
      "outputs": []
    },
    {
      "cell_type": "code",
      "metadata": {
        "id": "_gt0RSCl6dwx"
      },
      "source": [
        "length(int_vec)\n"
      ],
      "execution_count": null,
      "outputs": []
    },
    {
      "cell_type": "code",
      "metadata": {
        "id": "kIneBwxF6dwx"
      },
      "source": [
        "attributes(int_vec)"
      ],
      "execution_count": null,
      "outputs": []
    },
    {
      "cell_type": "code",
      "metadata": {
        "id": "KnRTDL3H6dwy"
      },
      "source": [
        "is.integer(int_vec)"
      ],
      "execution_count": null,
      "outputs": []
    },
    {
      "cell_type": "markdown",
      "metadata": {
        "id": "e5TP0zEl6dwy"
      },
      "source": [
        "## Logical"
      ]
    },
    {
      "cell_type": "code",
      "metadata": {
        "id": "LccS8uXI6dwy"
      },
      "source": [
        "log_vec = c(TRUE, TRUE, F)"
      ],
      "execution_count": null,
      "outputs": []
    },
    {
      "cell_type": "code",
      "metadata": {
        "id": "lIsoKtdB6dwy"
      },
      "source": [
        "str(log_vec)"
      ],
      "execution_count": null,
      "outputs": []
    },
    {
      "cell_type": "code",
      "metadata": {
        "id": "J8x0OR956dwy"
      },
      "source": [
        "typeof(log_vec)"
      ],
      "execution_count": null,
      "outputs": []
    },
    {
      "cell_type": "code",
      "metadata": {
        "id": "TbHrYvqp6dwz"
      },
      "source": [
        "length(log_vec)"
      ],
      "execution_count": null,
      "outputs": []
    },
    {
      "cell_type": "code",
      "metadata": {
        "id": "hrBTbmqZ6dwz"
      },
      "source": [
        "attributes(log_vec)"
      ],
      "execution_count": null,
      "outputs": []
    },
    {
      "cell_type": "code",
      "metadata": {
        "id": "Z9ilfsvm6dwz"
      },
      "source": [
        "is.logical(log_vec)"
      ],
      "execution_count": null,
      "outputs": []
    },
    {
      "cell_type": "markdown",
      "metadata": {
        "id": "CeY2GOVD6dwz"
      },
      "source": [
        "## Complex"
      ]
    },
    {
      "cell_type": "code",
      "metadata": {
        "id": "WyEtUah06dwz"
      },
      "source": [
        "com_vec = c(2+3i, 4)"
      ],
      "execution_count": null,
      "outputs": []
    },
    {
      "cell_type": "code",
      "metadata": {
        "id": "1zZeceUe6dwz"
      },
      "source": [
        "str(com_vec)"
      ],
      "execution_count": null,
      "outputs": []
    },
    {
      "cell_type": "code",
      "metadata": {
        "id": "rwLR3AJT6dw0"
      },
      "source": [
        "typeof(com_vec)"
      ],
      "execution_count": null,
      "outputs": []
    },
    {
      "cell_type": "code",
      "metadata": {
        "id": "eM_EvA9Y6dw0"
      },
      "source": [
        "length(com_vec)"
      ],
      "execution_count": null,
      "outputs": []
    },
    {
      "cell_type": "code",
      "metadata": {
        "id": "IDAHSQXm6dw0"
      },
      "source": [
        "attributes(com_vec)"
      ],
      "execution_count": null,
      "outputs": []
    },
    {
      "cell_type": "code",
      "metadata": {
        "id": "Dl3ptEFs6dw0"
      },
      "source": [
        "is.complex(com_vec)"
      ],
      "execution_count": null,
      "outputs": []
    },
    {
      "cell_type": "markdown",
      "metadata": {
        "id": "QY-ddLQo6dw1"
      },
      "source": [
        "## Coercion"
      ]
    },
    {
      "cell_type": "code",
      "metadata": {
        "id": "ZIhLtKij6dw1"
      },
      "source": [
        "x = c('1','2','3')\n",
        "typeof(x)"
      ],
      "execution_count": null,
      "outputs": []
    },
    {
      "cell_type": "code",
      "metadata": {
        "id": "zxRAUwyd6dw1"
      },
      "source": [
        "sum(x)"
      ],
      "execution_count": null,
      "outputs": []
    },
    {
      "cell_type": "code",
      "metadata": {
        "id": "XEsts3sY6dw1"
      },
      "source": [
        "y = as.integer(x)\n",
        "typeof(y)"
      ],
      "execution_count": null,
      "outputs": []
    },
    {
      "cell_type": "code",
      "metadata": {
        "id": "mt-ymK_t6dw1"
      },
      "source": [
        "sum(y)"
      ],
      "execution_count": null,
      "outputs": []
    },
    {
      "cell_type": "code",
      "metadata": {
        "id": "TJzLngts6dw2"
      },
      "source": [
        "as.integer(c('a', 'b'))"
      ],
      "execution_count": null,
      "outputs": []
    },
    {
      "cell_type": "code",
      "metadata": {
        "id": "V8Dd2W4b6dw2"
      },
      "source": [
        "typeof(c('1', '2', NA))"
      ],
      "execution_count": null,
      "outputs": []
    },
    {
      "cell_type": "code",
      "metadata": {
        "id": "-Pkx9lLh6dw2"
      },
      "source": [
        "typeof(c(1,2,3, NA))"
      ],
      "execution_count": null,
      "outputs": []
    },
    {
      "cell_type": "code",
      "metadata": {
        "id": "WQg1mQfT6dw2"
      },
      "source": [
        "patient_age = c(40, 23.5, \" \", 24, 32)"
      ],
      "execution_count": null,
      "outputs": []
    },
    {
      "cell_type": "code",
      "metadata": {
        "id": "c41aRqN66dw2"
      },
      "source": [
        "typeof(patient_age)"
      ],
      "execution_count": null,
      "outputs": []
    }
  ]
}