{
  "nbformat": 4,
  "nbformat_minor": 0,
  "metadata": {
    "kernelspec": {
      "display_name": "R",
      "language": "R",
      "name": "ir"
    },
    "language_info": {
      "codemirror_mode": "r",
      "file_extension": ".r",
      "mimetype": "text/x-r-source",
      "name": "R",
      "pygments_lexer": "r",
      "version": "3.6.1"
    },
    "colab": {
      "name": "2. Basic R Data Types - List.ipynb",
      "provenance": [],
      "collapsed_sections": [],
      "toc_visible": true,
      "include_colab_link": true
    }
  },
  "cells": [
    {
      "cell_type": "markdown",
      "metadata": {
        "id": "view-in-github",
        "colab_type": "text"
      },
      "source": [
        "<a href=\"https://colab.research.google.com/github/prakashsukhwal/R-based-classes/blob/main/2_Basic_R_Data_Types_List.ipynb\" target=\"_parent\"><img src=\"https://colab.research.google.com/assets/colab-badge.svg\" alt=\"Open In Colab\"/></a>"
      ]
    },
    {
      "cell_type": "markdown",
      "metadata": {
        "id": "1xGOJJI8XCoH"
      },
      "source": [
        "# 2. Lists\n",
        "\n",
        "## Use the Link below to create more R notebooks\n",
        "### Note: do not forget to save your work in your google drive\n",
        "\n",
        "[Use R on Google Colab!](https://colab.research.google.com/notebook#create=true&language=r)"
      ]
    },
    {
      "cell_type": "code",
      "metadata": {
        "id": "aG0XiKLNWz46"
      },
      "source": [
        "a_list = list(1:4, \"a\", TRUE, list(c('hello', 'world!')))"
      ],
      "execution_count": null,
      "outputs": []
    },
    {
      "cell_type": "code",
      "metadata": {
        "id": "NZsxbA3bWz49"
      },
      "source": [
        "str(a_list)"
      ],
      "execution_count": null,
      "outputs": []
    },
    {
      "cell_type": "code",
      "metadata": {
        "id": "Q_GBrhyPWz4-"
      },
      "source": [
        "typeof(a_list)"
      ],
      "execution_count": null,
      "outputs": []
    },
    {
      "cell_type": "code",
      "metadata": {
        "id": "a_U1_VNeWz4_"
      },
      "source": [
        "attributes(a_list)"
      ],
      "execution_count": null,
      "outputs": []
    },
    {
      "cell_type": "code",
      "metadata": {
        "id": "hFoESnlSWz4_"
      },
      "source": [
        "is.list(a_list)"
      ],
      "execution_count": null,
      "outputs": []
    },
    {
      "cell_type": "markdown",
      "metadata": {
        "id": "p2RCrcfvWz5A"
      },
      "source": [
        "## Data Access"
      ]
    },
    {
      "cell_type": "code",
      "metadata": {
        "id": "SI0qKnfrWz5A"
      },
      "source": [
        "a_list"
      ],
      "execution_count": null,
      "outputs": []
    },
    {
      "cell_type": "code",
      "metadata": {
        "id": "MZ6aYtABWz5B"
      },
      "source": [
        "a_list[[1]]"
      ],
      "execution_count": null,
      "outputs": []
    },
    {
      "cell_type": "code",
      "metadata": {
        "id": "pTp-cqlbWz5B"
      },
      "source": [
        "a_list[[1]][2]"
      ],
      "execution_count": null,
      "outputs": []
    },
    {
      "cell_type": "code",
      "metadata": {
        "id": "wDSKITTgWz5B"
      },
      "source": [
        "names(a_list) = c('l1', 'l2', 'l3', 'l4')"
      ],
      "execution_count": null,
      "outputs": []
    },
    {
      "cell_type": "code",
      "metadata": {
        "id": "HNj8-82kWz5C"
      },
      "source": [
        "a_list$l1"
      ],
      "execution_count": null,
      "outputs": []
    },
    {
      "cell_type": "code",
      "metadata": {
        "id": "1xsLJitEWz5C"
      },
      "source": [
        "a_list[['l1']]"
      ],
      "execution_count": null,
      "outputs": []
    },
    {
      "cell_type": "code",
      "metadata": {
        "id": "W5xB8A53Wz5C"
      },
      "source": [
        "a_list$l1[2]"
      ],
      "execution_count": null,
      "outputs": []
    },
    {
      "cell_type": "code",
      "metadata": {
        "id": "jxobAoLSWz5D"
      },
      "source": [
        "is.recursive(a_list)"
      ],
      "execution_count": null,
      "outputs": []
    },
    {
      "cell_type": "code",
      "metadata": {
        "id": "F_1fnMgEWz5D"
      },
      "source": [
        "a_list2 = c(1:4, \"a\", TRUE, 1 + 4i, list(seq(12, 15)))\n",
        "a_list2"
      ],
      "execution_count": null,
      "outputs": []
    },
    {
      "cell_type": "code",
      "metadata": {
        "id": "Us4s4GeeWz5D"
      },
      "source": [
        "# sublist\n",
        "typeof(a_list[2])"
      ],
      "execution_count": null,
      "outputs": []
    },
    {
      "cell_type": "markdown",
      "metadata": {
        "id": "DiIGcz9-Wz5E"
      },
      "source": [
        "##### <p style=\"text-align:left; padding-left: 4em;\">Guess Output-1 </p>"
      ]
    },
    {
      "cell_type": "code",
      "metadata": {
        "id": "iruzyrR5Wz5E"
      },
      "source": [
        "# example\n",
        "something = list(name=\"PS\", age=34)"
      ],
      "execution_count": null,
      "outputs": []
    },
    {
      "cell_type": "code",
      "metadata": {
        "id": "OhGwrMbIWz5E"
      },
      "source": [
        "something$na"
      ],
      "execution_count": null,
      "outputs": []
    },
    {
      "cell_type": "markdown",
      "metadata": {
        "id": "CKh6Vj8uWz5E"
      },
      "source": [
        "##### <p style=\"text-align:left; padding-left: 4em;\">Guess Output-2 </p>"
      ]
    },
    {
      "cell_type": "code",
      "metadata": {
        "id": "YxAeQcTwWz5F"
      },
      "source": [
        "something = vector(\"list\")"
      ],
      "execution_count": null,
      "outputs": []
    },
    {
      "cell_type": "code",
      "metadata": {
        "id": "SWZ7l18qWz5F"
      },
      "source": [
        "something$l1 = c(1,2)"
      ],
      "execution_count": null,
      "outputs": []
    },
    {
      "cell_type": "code",
      "metadata": {
        "id": "KV3ILLy-Wz5F"
      },
      "source": [
        "something$l2 = 1:4"
      ],
      "execution_count": null,
      "outputs": []
    },
    {
      "cell_type": "code",
      "metadata": {
        "id": "A57Lgp8UWz5F"
      },
      "source": [
        "typeof(something)\n",
        "length(something)"
      ],
      "execution_count": null,
      "outputs": []
    },
    {
      "cell_type": "code",
      "metadata": {
        "id": "GwrOvNsVWz5F"
      },
      "source": [
        "x = list(1:4, \"a\", TRUE, list(c('hello', 'world!')))\n",
        "y = c(1:4, \"a\", TRUE, list(c('hello', 'world!'))) \n",
        "x\n",
        "y"
      ],
      "execution_count": null,
      "outputs": []
    },
    {
      "cell_type": "code",
      "metadata": {
        "id": "WSt8OLUaX76Q"
      },
      "source": [
        "x==y"
      ],
      "execution_count": null,
      "outputs": []
    },
    {
      "cell_type": "code",
      "metadata": {
        "id": "7SkfnaG_Wz5G"
      },
      "source": [
        "all.equal(x == y)"
      ],
      "execution_count": null,
      "outputs": []
    },
    {
      "cell_type": "code",
      "metadata": {
        "id": "5j4IX02dWz5G"
      },
      "source": [
        ""
      ],
      "execution_count": null,
      "outputs": []
    },
    {
      "cell_type": "markdown",
      "metadata": {
        "id": "S1Wb34PC8Wal"
      },
      "source": [
        "\n",
        "\n",
        "## example-1\n",
        "Extract all phone numbers from a textual input"
      ]
    },
    {
      "cell_type": "code",
      "metadata": {
        "colab": {
          "base_uri": "https://localhost:8080/"
        },
        "id": "DRUCt0V0-CS4",
        "outputId": "afe92fdf-ff41-49c5-ed6c-aaad2aeb6bdd"
      },
      "source": [
        "install.packages(c('stringr', 'rebus'))"
      ],
      "execution_count": 2,
      "outputs": [
        {
          "output_type": "stream",
          "text": [
            "Installing packages into ‘/usr/local/lib/R/site-library’\n",
            "(as ‘lib’ is unspecified)\n",
            "\n",
            "also installing the dependencies ‘rebus.base’, ‘rebus.datetimes’, ‘rebus.numbers’, ‘rebus.unicode’\n",
            "\n",
            "\n"
          ],
          "name": "stderr"
        }
      ]
    },
    {
      "cell_type": "code",
      "metadata": {
        "id": "qwhflYkI969h"
      },
      "source": [
        "library(stringr)\n",
        "library(rebus)"
      ],
      "execution_count": null,
      "outputs": []
    },
    {
      "cell_type": "code",
      "metadata": {
        "colab": {
          "base_uri": "https://localhost:8080/",
          "height": 33
        },
        "id": "gb2Fr7qm8aZc",
        "outputId": "d1a22b2f-2850-4531-d658-7acdb79802da"
      },
      "source": [
        "x = c(\" 219 733 8965 543.355.3679\", \"329-293-8753 \",  \n",
        "      \"387 287 6718\", \"543.355.3678\", \n",
        "      \"233.398.9187  \", \"482 952 3315\",\n",
        "      \"2399238115 and 842.566.4692\", \n",
        "      \"My Work: 579-499-7527, My Home: 222-333-1212\")\n",
        "x"
      ],
      "execution_count": 24,
      "outputs": [
        {
          "output_type": "display_data",
          "data": {
            "text/plain": [
              "[1] \" 219 733 8965 543.355.3679\"                  \n",
              "[2] \"329-293-8753 \"                               \n",
              "[3] \"387 287 6718\"                                \n",
              "[4] \"543.355.3678\"                                \n",
              "[5] \"233.398.9187  \"                              \n",
              "[6] \"482 952 3315\"                                \n",
              "[7] \"2399238115 and 842.566.4692\"                 \n",
              "[8] \"My Work: 579-499-7527, My Home: 222-333-1212\""
            ],
            "text/latex": "\\begin{enumerate*}\n\\item ' 219 733 8965 543.355.3679'\n\\item '329-293-8753 '\n\\item '387 287 6718'\n\\item '543.355.3678'\n\\item '233.398.9187  '\n\\item '482 952 3315'\n\\item '2399238115 and 842.566.4692'\n\\item 'My Work: 579-499-7527, My Home: 222-333-1212'\n\\end{enumerate*}\n",
            "text/markdown": "1. ' 219 733 8965 543.355.3679'\n2. '329-293-8753 '\n3. '387 287 6718'\n4. '543.355.3678'\n5. <span style=white-space:pre-wrap>'233.398.9187  '</span>\n6. '482 952 3315'\n7. '2399238115 and 842.566.4692'\n8. 'My Work: 579-499-7527, My Home: 222-333-1212'\n\n\n",
            "text/html": [
              "<style>\n",
              ".list-inline {list-style: none; margin:0; padding: 0}\n",
              ".list-inline>li {display: inline-block}\n",
              ".list-inline>li:not(:last-child)::after {content: \"\\00b7\"; padding: 0 .5ex}\n",
              "</style>\n",
              "<ol class=list-inline><li>' 219 733 8965 543.355.3679'</li><li>'329-293-8753 '</li><li>'387 287 6718'</li><li>'543.355.3678'</li><li><span style=white-space:pre-wrap>'233.398.9187  '</span></li><li>'482 952 3315'</li><li>'2399238115 and 842.566.4692'</li><li>'My Work: 579-499-7527, My Home: 222-333-1212'</li></ol>\n"
            ]
          },
          "metadata": {
            "tags": []
          }
        }
      ]
    },
    {
      "cell_type": "code",
      "metadata": {
        "colab": {
          "base_uri": "https://localhost:8080/",
          "height": 33
        },
        "id": "ftMQpYvj8aez",
        "outputId": "6a808855-8d26-458e-c92b-4a587ed57e8d"
      },
      "source": [
        "p1 = DGT %R% DGT %R% DGT\n",
        "p2 = DGT %R% DGT %R% DGT %R% DGT\n",
        "sep = or(\" \", \".\", \"-\", \"\")\n",
        "\n",
        "ptrn = p1 %R% sep %R% p1 %R% sep %R% p2\n",
        "ptrn"
      ],
      "execution_count": 26,
      "outputs": [
        {
          "output_type": "display_data",
          "data": {
            "text/plain": [
              "<regex> \\d\\d\\d(?: |.|-|)\\d\\d\\d(?: |.|-|)\\d\\d\\d\\d"
            ],
            "text/latex": "'\\textbackslash{}\\textbackslash{}d\\textbackslash{}\\textbackslash{}d\\textbackslash{}\\textbackslash{}d(?: \\textbar{}.\\textbar{}-\\textbar{})\\textbackslash{}\\textbackslash{}d\\textbackslash{}\\textbackslash{}d\\textbackslash{}\\textbackslash{}d(?: \\textbar{}.\\textbar{}-\\textbar{})\\textbackslash{}\\textbackslash{}d\\textbackslash{}\\textbackslash{}d\\textbackslash{}\\textbackslash{}d\\textbackslash{}\\textbackslash{}d'",
            "text/markdown": "'\\\\d\\\\d\\\\d(?: |.|-|)\\\\d\\\\d\\\\d(?: |.|-|)\\\\d\\\\d\\\\d\\\\d'",
            "text/html": [
              "'\\\\d\\\\d\\\\d(?: |.|-|)\\\\d\\\\d\\\\d(?: |.|-|)\\\\d\\\\d\\\\d\\\\d'"
            ]
          },
          "metadata": {
            "tags": []
          }
        }
      ]
    },
    {
      "cell_type": "code",
      "metadata": {
        "colab": {
          "base_uri": "https://localhost:8080/",
          "height": 616
        },
        "id": "URfIkRVe8amP",
        "outputId": "65d6e546-7b7c-480d-d560-4d8ae3742732"
      },
      "source": [
        "n = str_match_all(x, pattern = ptrn)\n",
        "print(n)\n",
        "class(n)"
      ],
      "execution_count": 27,
      "outputs": [
        {
          "output_type": "stream",
          "text": [
            "[[1]]\n",
            "     [,1]          \n",
            "[1,] \"219 733 8965\"\n",
            "[2,] \"543.355.3679\"\n",
            "\n",
            "[[2]]\n",
            "     [,1]          \n",
            "[1,] \"329-293-8753\"\n",
            "\n",
            "[[3]]\n",
            "     [,1]          \n",
            "[1,] \"387 287 6718\"\n",
            "\n",
            "[[4]]\n",
            "     [,1]          \n",
            "[1,] \"543.355.3678\"\n",
            "\n",
            "[[5]]\n",
            "     [,1]          \n",
            "[1,] \"233.398.9187\"\n",
            "\n",
            "[[6]]\n",
            "     [,1]          \n",
            "[1,] \"482 952 3315\"\n",
            "\n",
            "[[7]]\n",
            "     [,1]          \n",
            "[1,] \"2399238115\"  \n",
            "[2,] \"842.566.4692\"\n",
            "\n",
            "[[8]]\n",
            "     [,1]          \n",
            "[1,] \"579-499-7527\"\n",
            "[2,] \"222-333-1212\"\n",
            "\n"
          ],
          "name": "stdout"
        },
        {
          "output_type": "display_data",
          "data": {
            "text/plain": [
              "[1] \"list\""
            ],
            "text/latex": "'list'",
            "text/markdown": "'list'",
            "text/html": [
              "'list'"
            ]
          },
          "metadata": {
            "tags": []
          }
        }
      ]
    },
    {
      "cell_type": "code",
      "metadata": {
        "colab": {
          "base_uri": "https://localhost:8080/",
          "height": 441
        },
        "id": "7JKBkmPg-8QK",
        "outputId": "7a4af056-dcf5-47ec-b75d-907ff9cd9083"
      },
      "source": [
        "data.frame('contacts' = unlist(n))"
      ],
      "execution_count": 29,
      "outputs": [
        {
          "output_type": "display_data",
          "data": {
            "text/plain": [
              "   contacts    \n",
              "1  219 733 8965\n",
              "2  543.355.3679\n",
              "3  329-293-8753\n",
              "4  387 287 6718\n",
              "5  543.355.3678\n",
              "6  233.398.9187\n",
              "7  482 952 3315\n",
              "8  2399238115  \n",
              "9  842.566.4692\n",
              "10 579-499-7527\n",
              "11 222-333-1212"
            ],
            "text/latex": "A data.frame: 11 × 1\n\\begin{tabular}{l}\n contacts\\\\\n <chr>\\\\\n\\hline\n\t 219 733 8965\\\\\n\t 543.355.3679\\\\\n\t 329-293-8753\\\\\n\t 387 287 6718\\\\\n\t 543.355.3678\\\\\n\t 233.398.9187\\\\\n\t 482 952 3315\\\\\n\t 2399238115  \\\\\n\t 842.566.4692\\\\\n\t 579-499-7527\\\\\n\t 222-333-1212\\\\\n\\end{tabular}\n",
            "text/markdown": "\nA data.frame: 11 × 1\n\n| contacts &lt;chr&gt; |\n|---|\n| 219 733 8965 |\n| 543.355.3679 |\n| 329-293-8753 |\n| 387 287 6718 |\n| 543.355.3678 |\n| 233.398.9187 |\n| 482 952 3315 |\n| 2399238115   |\n| 842.566.4692 |\n| 579-499-7527 |\n| 222-333-1212 |\n\n",
            "text/html": [
              "<table class=\"dataframe\">\n",
              "<caption>A data.frame: 11 × 1</caption>\n",
              "<thead>\n",
              "\t<tr><th scope=col>contacts</th></tr>\n",
              "\t<tr><th scope=col>&lt;chr&gt;</th></tr>\n",
              "</thead>\n",
              "<tbody>\n",
              "\t<tr><td>219 733 8965</td></tr>\n",
              "\t<tr><td>543.355.3679</td></tr>\n",
              "\t<tr><td>329-293-8753</td></tr>\n",
              "\t<tr><td>387 287 6718</td></tr>\n",
              "\t<tr><td>543.355.3678</td></tr>\n",
              "\t<tr><td>233.398.9187</td></tr>\n",
              "\t<tr><td>482 952 3315</td></tr>\n",
              "\t<tr><td>2399238115  </td></tr>\n",
              "\t<tr><td>842.566.4692</td></tr>\n",
              "\t<tr><td>579-499-7527</td></tr>\n",
              "\t<tr><td>222-333-1212</td></tr>\n",
              "</tbody>\n",
              "</table>\n"
            ]
          },
          "metadata": {
            "tags": []
          }
        }
      ]
    },
    {
      "cell_type": "code",
      "metadata": {
        "id": "rF0jupDk-8YE"
      },
      "source": [
        ""
      ],
      "execution_count": null,
      "outputs": []
    }
  ]
}