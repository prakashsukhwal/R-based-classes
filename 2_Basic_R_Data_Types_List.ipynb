{
  "nbformat": 4,
  "nbformat_minor": 0,
  "metadata": {
    "kernelspec": {
      "display_name": "R",
      "language": "R",
      "name": "ir"
    },
    "language_info": {
      "codemirror_mode": "r",
      "file_extension": ".r",
      "mimetype": "text/x-r-source",
      "name": "R",
      "pygments_lexer": "r",
      "version": "3.6.1"
    },
    "colab": {
      "name": "2. Basic R Data Types - List.ipynb",
      "provenance": [],
      "collapsed_sections": [],
      "toc_visible": true,
      "include_colab_link": true
    }
  },
  "cells": [
    {
      "cell_type": "markdown",
      "metadata": {
        "id": "view-in-github",
        "colab_type": "text"
      },
      "source": [
        "<a href=\"https://colab.research.google.com/github/prakashsukhwal/R-based-classes/blob/main/2_Basic_R_Data_Types_List.ipynb\" target=\"_parent\"><img src=\"https://colab.research.google.com/assets/colab-badge.svg\" alt=\"Open In Colab\"/></a>"
      ]
    },
    {
      "cell_type": "markdown",
      "metadata": {
        "id": "1xGOJJI8XCoH"
      },
      "source": [
        "# 2. Lists\n",
        "\n",
        "## Use the Link below to create more R notebooks\n",
        "### Note: do not forget to save your work in your google drive\n",
        "\n",
        "[Use R on Google Colab!](https://colab.research.google.com/notebook#create=true&language=r)"
      ]
    },
    {
      "cell_type": "code",
      "metadata": {
        "id": "aG0XiKLNWz46"
      },
      "source": [
        "a_list = list(1:4, \"a\", TRUE, list(c('hello', 'world!')))"
      ],
      "execution_count": null,
      "outputs": []
    },
    {
      "cell_type": "code",
      "metadata": {
        "id": "NZsxbA3bWz49"
      },
      "source": [
        "str(a_list)"
      ],
      "execution_count": null,
      "outputs": []
    },
    {
      "cell_type": "code",
      "metadata": {
        "id": "Q_GBrhyPWz4-"
      },
      "source": [
        "typeof(a_list)"
      ],
      "execution_count": null,
      "outputs": []
    },
    {
      "cell_type": "code",
      "metadata": {
        "id": "a_U1_VNeWz4_"
      },
      "source": [
        "attributes(a_list)"
      ],
      "execution_count": null,
      "outputs": []
    },
    {
      "cell_type": "code",
      "metadata": {
        "id": "hFoESnlSWz4_"
      },
      "source": [
        "is.list(a_list)"
      ],
      "execution_count": null,
      "outputs": []
    },
    {
      "cell_type": "markdown",
      "metadata": {
        "id": "p2RCrcfvWz5A"
      },
      "source": [
        "## Data Access"
      ]
    },
    {
      "cell_type": "code",
      "metadata": {
        "id": "SI0qKnfrWz5A"
      },
      "source": [
        "a_list"
      ],
      "execution_count": null,
      "outputs": []
    },
    {
      "cell_type": "code",
      "metadata": {
        "id": "MZ6aYtABWz5B"
      },
      "source": [
        "a_list[[1]]"
      ],
      "execution_count": null,
      "outputs": []
    },
    {
      "cell_type": "code",
      "metadata": {
        "id": "pTp-cqlbWz5B"
      },
      "source": [
        "a_list[[1]][2]"
      ],
      "execution_count": null,
      "outputs": []
    },
    {
      "cell_type": "code",
      "metadata": {
        "id": "wDSKITTgWz5B"
      },
      "source": [
        "names(a_list) = c('l1', 'l2', 'l3', 'l4')"
      ],
      "execution_count": null,
      "outputs": []
    },
    {
      "cell_type": "code",
      "metadata": {
        "id": "HNj8-82kWz5C"
      },
      "source": [
        "a_list$l1"
      ],
      "execution_count": null,
      "outputs": []
    },
    {
      "cell_type": "code",
      "metadata": {
        "id": "1xsLJitEWz5C"
      },
      "source": [
        "a_list[['l1']]"
      ],
      "execution_count": null,
      "outputs": []
    },
    {
      "cell_type": "code",
      "metadata": {
        "id": "W5xB8A53Wz5C"
      },
      "source": [
        "a_list$l1[2]"
      ],
      "execution_count": null,
      "outputs": []
    },
    {
      "cell_type": "code",
      "metadata": {
        "id": "jxobAoLSWz5D"
      },
      "source": [
        "is.recursive(a_list)"
      ],
      "execution_count": null,
      "outputs": []
    },
    {
      "cell_type": "code",
      "metadata": {
        "id": "F_1fnMgEWz5D"
      },
      "source": [
        "a_list2 = c(1:4, \"a\", TRUE, 1 + 4i, list(seq(12, 15)))\n",
        "a_list2"
      ],
      "execution_count": null,
      "outputs": []
    },
    {
      "cell_type": "code",
      "metadata": {
        "id": "Us4s4GeeWz5D"
      },
      "source": [
        "# sublist\n",
        "typeof(a_list[2])"
      ],
      "execution_count": null,
      "outputs": []
    },
    {
      "cell_type": "markdown",
      "metadata": {
        "id": "DiIGcz9-Wz5E"
      },
      "source": [
        "##### <p style=\"text-align:left; padding-left: 4em;\">Guess Output-1 </p>"
      ]
    },
    {
      "cell_type": "code",
      "metadata": {
        "id": "iruzyrR5Wz5E"
      },
      "source": [
        "# example\n",
        "something = list(name=\"PS\", age=34)"
      ],
      "execution_count": null,
      "outputs": []
    },
    {
      "cell_type": "code",
      "metadata": {
        "id": "OhGwrMbIWz5E"
      },
      "source": [
        "something$na"
      ],
      "execution_count": null,
      "outputs": []
    },
    {
      "cell_type": "markdown",
      "metadata": {
        "id": "CKh6Vj8uWz5E"
      },
      "source": [
        "##### <p style=\"text-align:left; padding-left: 4em;\">Guess Output-2 </p>"
      ]
    },
    {
      "cell_type": "code",
      "metadata": {
        "id": "YxAeQcTwWz5F"
      },
      "source": [
        "something = vector(\"list\")"
      ],
      "execution_count": null,
      "outputs": []
    },
    {
      "cell_type": "code",
      "metadata": {
        "id": "SWZ7l18qWz5F"
      },
      "source": [
        "something$l1 = c(1,2)"
      ],
      "execution_count": null,
      "outputs": []
    },
    {
      "cell_type": "code",
      "metadata": {
        "id": "KV3ILLy-Wz5F"
      },
      "source": [
        "something$l2 = 1:4"
      ],
      "execution_count": null,
      "outputs": []
    },
    {
      "cell_type": "code",
      "metadata": {
        "id": "A57Lgp8UWz5F"
      },
      "source": [
        "typeof(something)\n",
        "length(something)"
      ],
      "execution_count": null,
      "outputs": []
    },
    {
      "cell_type": "code",
      "metadata": {
        "id": "GwrOvNsVWz5F"
      },
      "source": [
        "x = list(1:4, \"a\", TRUE, list(c('hello', 'world!')))\n",
        "y = c(1:4, \"a\", TRUE, list(c('hello', 'world!'))) \n",
        "x\n",
        "y"
      ],
      "execution_count": null,
      "outputs": []
    },
    {
      "cell_type": "code",
      "metadata": {
        "id": "WSt8OLUaX76Q"
      },
      "source": [
        "x==y"
      ],
      "execution_count": null,
      "outputs": []
    },
    {
      "cell_type": "code",
      "metadata": {
        "id": "7SkfnaG_Wz5G"
      },
      "source": [
        "all.equal(x == y)"
      ],
      "execution_count": null,
      "outputs": []
    },
    {
      "cell_type": "code",
      "metadata": {
        "id": "5j4IX02dWz5G"
      },
      "source": [
        ""
      ],
      "execution_count": null,
      "outputs": []
    }
  ]
}