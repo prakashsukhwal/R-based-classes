{
  "nbformat": 4,
  "nbformat_minor": 0,
  "metadata": {
    "kernelspec": {
      "display_name": "R",
      "language": "R",
      "name": "ir"
    },
    "language_info": {
      "codemirror_mode": "r",
      "file_extension": ".r",
      "mimetype": "text/x-r-source",
      "name": "R",
      "pygments_lexer": "r",
      "version": "3.6.1"
    },
    "colab": {
      "name": "4. Basic R Data Types - Data frame.ipynb",
      "provenance": [],
      "collapsed_sections": [],
      "toc_visible": true,
      "include_colab_link": true
    }
  },
  "cells": [
    {
      "cell_type": "markdown",
      "metadata": {
        "id": "view-in-github",
        "colab_type": "text"
      },
      "source": [
        "<a href=\"https://colab.research.google.com/github/prakashsukhwal/R-based-classes/blob/main/4_Basic_R_Data_Types_Data_frame.ipynb\" target=\"_parent\"><img src=\"https://colab.research.google.com/assets/colab-badge.svg\" alt=\"Open In Colab\"/></a>"
      ]
    },
    {
      "cell_type": "markdown",
      "metadata": {
        "id": "8El7MbiWcVtG"
      },
      "source": [
        "# 4. Dataframe\n",
        "\n",
        "## Use the Link below to create more R notebooks\n",
        "### Note: do not forget to save your work in your google drive\n",
        "\n",
        "[Use R on Google Colab!](https://colab.research.google.com/notebook#create=true&language=r)"
      ]
    },
    {
      "cell_type": "code",
      "metadata": {
        "id": "GMVioHnncNvr"
      },
      "source": [
        "# uncomment run the code below only if you do not have 'pacman' installed\n",
        "install.packages('pacman', repos = \"http://cran.us.r-project.org\")"
      ],
      "execution_count": null,
      "outputs": []
    },
    {
      "cell_type": "code",
      "metadata": {
        "id": "lAvIMb6DcNvs"
      },
      "source": [
        "# using this we load the libraries (it installs the ones we do not have in our system)\n",
        "pacman::p_load(tidyverse, FRACTION, lubridate, IRdisplay)"
      ],
      "execution_count": null,
      "outputs": []
    },
    {
      "cell_type": "markdown",
      "metadata": {
        "id": "SkjIhOOKcNvs"
      },
      "source": [
        "## Create "
      ]
    },
    {
      "cell_type": "code",
      "metadata": {
        "id": "Jaj-j036cNvs"
      },
      "source": [
        "##### Create"
      ],
      "execution_count": null,
      "outputs": []
    },
    {
      "cell_type": "code",
      "metadata": {
        "id": "24ZCcVDJcNvt"
      },
      "source": [
        "set.seed(100)\n",
        "student_id = 101:105\n",
        "\n",
        "age = sample(15:20, replace = TRUE, size = 5)\n",
        "\n",
        "gender = sample(c(\"M\",\"F\"), 5, replace=TRUE, prob = c(0.6,0.4))"
      ],
      "execution_count": null,
      "outputs": []
    },
    {
      "cell_type": "code",
      "metadata": {
        "id": "hAKzEOstcNvt"
      },
      "source": [
        "student_id = 101:105\n",
        "\n",
        "age = sample(15:20, replace = TRUE, size = 5)\n",
        "\n",
        "gender = sample(c(\"M\",\"F\"), 5, replace=TRUE, prob = c(0.6,0.4))\n",
        "class_data = data.frame(student_id, gender, age)\n",
        "\n",
        "\n"
      ],
      "execution_count": null,
      "outputs": []
    },
    {
      "cell_type": "code",
      "metadata": {
        "id": "msB6NMTFcNvt"
      },
      "source": [
        "class_data = data.frame(student_id, gender, age)"
      ],
      "execution_count": null,
      "outputs": []
    },
    {
      "cell_type": "code",
      "metadata": {
        "id": "ZVKwsVg5cNvu"
      },
      "source": [
        "str(class_data)"
      ],
      "execution_count": null,
      "outputs": []
    },
    {
      "cell_type": "code",
      "metadata": {
        "id": "Vxq3GuM9cNvv"
      },
      "source": [
        "class_data = data.frame(student_id, gender, age, stringsAsFactors = FALSE)"
      ],
      "execution_count": null,
      "outputs": []
    },
    {
      "cell_type": "code",
      "metadata": {
        "id": "nEpuSljPcNvv"
      },
      "source": [
        "str(class_data)"
      ],
      "execution_count": null,
      "outputs": []
    },
    {
      "cell_type": "code",
      "metadata": {
        "id": "ioru4cgscNvv"
      },
      "source": [
        ""
      ],
      "execution_count": null,
      "outputs": []
    },
    {
      "cell_type": "markdown",
      "metadata": {
        "id": "ECuuZGoBcNvv"
      },
      "source": [
        "## Type & Properties"
      ]
    },
    {
      "cell_type": "code",
      "metadata": {
        "id": "RRqesPJ0cNvw"
      },
      "source": [
        "##### Type & Properties"
      ],
      "execution_count": null,
      "outputs": []
    },
    {
      "cell_type": "code",
      "metadata": {
        "id": "ph5r7L9ZcNvw"
      },
      "source": [
        "class(class_data)\n",
        "is.data.frame(class_data)"
      ],
      "execution_count": null,
      "outputs": []
    },
    {
      "cell_type": "code",
      "metadata": {
        "id": "zHygsDVOcNvw"
      },
      "source": [
        "dim(class_data)"
      ],
      "execution_count": null,
      "outputs": []
    },
    {
      "cell_type": "code",
      "metadata": {
        "id": "21uwxgu7cNvw"
      },
      "source": [
        "length(class_data)\n",
        "ncol(class_data)\n",
        "nrow(class_data)"
      ],
      "execution_count": null,
      "outputs": []
    },
    {
      "cell_type": "code",
      "metadata": {
        "id": "62RCnwuYcNvx"
      },
      "source": [
        "names(class_data)\n",
        "colnames(class_data)"
      ],
      "execution_count": null,
      "outputs": []
    },
    {
      "cell_type": "code",
      "metadata": {
        "id": "oOxJsasDcNvx"
      },
      "source": [
        "rownames(class_data)"
      ],
      "execution_count": null,
      "outputs": []
    },
    {
      "cell_type": "code",
      "metadata": {
        "id": "JvvarB1vcNvx"
      },
      "source": [
        "attributes(class_data)"
      ],
      "execution_count": null,
      "outputs": []
    },
    {
      "cell_type": "markdown",
      "metadata": {
        "id": "yW56rHI4cNvy"
      },
      "source": [
        "## Data Access: Using Index"
      ]
    },
    {
      "cell_type": "code",
      "metadata": {
        "id": "9aR4kxLucNvy"
      },
      "source": [
        "#### Data Access: Using Index"
      ],
      "execution_count": null,
      "outputs": []
    },
    {
      "cell_type": "code",
      "metadata": {
        "id": "suUB4qm0cNvy"
      },
      "source": [
        "class_data[1,]"
      ],
      "execution_count": null,
      "outputs": []
    },
    {
      "cell_type": "code",
      "metadata": {
        "id": "tpdPN2ZOcNvy"
      },
      "source": [
        "class_data[,1]"
      ],
      "execution_count": null,
      "outputs": []
    },
    {
      "cell_type": "code",
      "metadata": {
        "id": "9JT6BhbscNvy"
      },
      "source": [
        "class_data[,1, drop=FALSE] \n",
        "# drop = F to return a data frame"
      ],
      "execution_count": null,
      "outputs": []
    },
    {
      "cell_type": "code",
      "metadata": {
        "id": "jw_9W-IkcNvz"
      },
      "source": [
        "class_data[1:2, 2:3] # Access specific data"
      ],
      "execution_count": null,
      "outputs": []
    },
    {
      "cell_type": "markdown",
      "metadata": {
        "id": "qzpAdutscNvz"
      },
      "source": [
        "## Using Names"
      ]
    },
    {
      "cell_type": "code",
      "metadata": {
        "id": "cOEBwX6bcNvz"
      },
      "source": [
        "#### Using Names"
      ],
      "execution_count": null,
      "outputs": []
    },
    {
      "cell_type": "code",
      "metadata": {
        "id": "wOSmGrgKcNvz"
      },
      "source": [
        "class_data$age"
      ],
      "execution_count": null,
      "outputs": []
    },
    {
      "cell_type": "code",
      "metadata": {
        "id": "5MwkSAMwcNvz"
      },
      "source": [
        "class_data['age']"
      ],
      "execution_count": null,
      "outputs": []
    },
    {
      "cell_type": "code",
      "metadata": {
        "id": "_WDNzFuMcNv0"
      },
      "source": [
        "class(class_data['age'])\n",
        "typeof(class_data['age'])"
      ],
      "execution_count": null,
      "outputs": []
    },
    {
      "cell_type": "code",
      "metadata": {
        "id": "XKawKHB-cNv0"
      },
      "source": [
        "class_data[, c('student_id', 'age')]"
      ],
      "execution_count": null,
      "outputs": []
    },
    {
      "cell_type": "code",
      "metadata": {
        "id": "5lHij_7ycNv0"
      },
      "source": [
        "class_data[c('1', '3'), c('student_id', 'age')]"
      ],
      "execution_count": null,
      "outputs": []
    },
    {
      "cell_type": "code",
      "metadata": {
        "id": "I5MIW6iTcNv1"
      },
      "source": [
        "str(class_data)"
      ],
      "execution_count": null,
      "outputs": []
    },
    {
      "cell_type": "markdown",
      "metadata": {
        "id": "9CV_xyx9cNv1"
      },
      "source": [
        "## Modify\n",
        "1. Change a value\n",
        "2. Add row or column\n",
        "3. Merge 2 data frames \n",
        "4. Split data frame \n",
        "5. Delete"
      ]
    },
    {
      "cell_type": "code",
      "metadata": {
        "id": "BwwbvO0ocNv1"
      },
      "source": [
        "##### Modify \n",
        "## 1. Change a value\n",
        "## 2. Add row or column\n",
        "## 3. Merge 2 data frames <br/> 4. Split data frame 5. Delete</p>"
      ],
      "execution_count": null,
      "outputs": []
    },
    {
      "cell_type": "code",
      "metadata": {
        "id": "GIxAvXQIcNv1"
      },
      "source": [
        "class_data[c(1,3),\"age\"] = 16\n",
        "class_data"
      ],
      "execution_count": null,
      "outputs": []
    },
    {
      "cell_type": "code",
      "metadata": {
        "id": "2jAQ64n9cNv2"
      },
      "source": [
        "# Add a row\n",
        "new_student = list(106, 'F', 18)\n",
        "class_data = rbind(class_data, new_student)\n",
        "class_data"
      ],
      "execution_count": null,
      "outputs": []
    },
    {
      "cell_type": "markdown",
      "metadata": {
        "id": "rwf6v8JzcNv2"
      },
      "source": [
        "### using a condition to modify\n",
        "- 10 % discount to all younger than 16 yrs else flat 5%"
      ]
    },
    {
      "cell_type": "code",
      "metadata": {
        "id": "J032olFjcNv3"
      },
      "source": [
        "##### Using a condition to modify\n",
        "## 10 % discount to all younger than 16 yrs else flat 5%"
      ],
      "execution_count": null,
      "outputs": []
    },
    {
      "cell_type": "code",
      "metadata": {
        "id": "kDifmevQcNv3"
      },
      "source": [
        "class_data$discount = ifelse(class_data$age < 16, 0.10, 0.05)\n",
        "class_data"
      ],
      "execution_count": null,
      "outputs": []
    },
    {
      "cell_type": "code",
      "metadata": {
        "id": "hsLaamPGfq5h"
      },
      "source": [
        "class_data$discount = NULL"
      ],
      "execution_count": null,
      "outputs": []
    },
    {
      "cell_type": "code",
      "metadata": {
        "id": "X4TQipUncNv2"
      },
      "source": [
        "# Add a column; call it 'height'\n",
        "height = sample(150:180, replace = TRUE, size = 6)"
      ],
      "execution_count": null,
      "outputs": []
    },
    {
      "cell_type": "code",
      "metadata": {
        "id": "IxI5Q_wrcNv2"
      },
      "source": [
        "class_data$height = height # can also use cbind()\n",
        "class_data"
      ],
      "execution_count": null,
      "outputs": []
    },
    {
      "cell_type": "markdown",
      "metadata": {
        "id": "DZuOI6JJcNv3"
      },
      "source": [
        "## Merge"
      ]
    },
    {
      "cell_type": "code",
      "metadata": {
        "id": "Xv5D60_-cNv3"
      },
      "source": [
        "#### Merge"
      ],
      "execution_count": null,
      "outputs": []
    },
    {
      "cell_type": "code",
      "metadata": {
        "id": "k9ejtn-7cNv3"
      },
      "source": [
        "class_additional_info = data.frame(student_id = 101:106, \n",
        "                        nationality = sample(c(\"Asian\",\n",
        "                         \"European\", \"Japanese\"), \n",
        "                          size = 6, \n",
        "                          replace=TRUE),\n",
        "                          stringsAsFactors = F)\n",
        "class_additional_info"
      ],
      "execution_count": null,
      "outputs": []
    },
    {
      "cell_type": "code",
      "metadata": {
        "id": "6wUibYg8cNv4"
      },
      "source": [
        "# merge addtional info. with class_data\n",
        "class_modified = merge(class_data, \n",
        "                       class_additional_info, \n",
        "                       by=\"student_id\")"
      ],
      "execution_count": null,
      "outputs": []
    },
    {
      "cell_type": "code",
      "metadata": {
        "id": "6MYsjprtcNv4"
      },
      "source": [
        "class_modified"
      ],
      "execution_count": null,
      "outputs": []
    },
    {
      "cell_type": "markdown",
      "metadata": {
        "id": "K_62nqLdcNv4"
      },
      "source": [
        "## Split"
      ]
    },
    {
      "cell_type": "code",
      "metadata": {
        "id": "G6Vz-Y7ZcNv4"
      },
      "source": [
        "#### Split"
      ],
      "execution_count": null,
      "outputs": []
    },
    {
      "cell_type": "code",
      "metadata": {
        "id": "xIseiYqqcNv4"
      },
      "source": [
        "# split based on a column\n",
        "(class_split = split(class_modified, class_modified$gender))"
      ],
      "execution_count": null,
      "outputs": []
    },
    {
      "cell_type": "code",
      "metadata": {
        "id": "jAkJ3CYgcNv4"
      },
      "source": [
        "#### Delete"
      ],
      "execution_count": null,
      "outputs": []
    },
    {
      "cell_type": "markdown",
      "metadata": {
        "id": "LFEdAtCacNv5"
      },
      "source": [
        "## Delete\n",
        "\n"
      ]
    },
    {
      "cell_type": "code",
      "metadata": {
        "id": "NQ_lv6E6cNv5"
      },
      "source": [
        "# row\n",
        "class_modified[-1,]"
      ],
      "execution_count": null,
      "outputs": []
    },
    {
      "cell_type": "code",
      "metadata": {
        "id": "_cwUBvhscNv5"
      },
      "source": [
        "# column\n",
        "class_data$height = NULL\n",
        "names(class_data)"
      ],
      "execution_count": null,
      "outputs": []
    }
  ]
}