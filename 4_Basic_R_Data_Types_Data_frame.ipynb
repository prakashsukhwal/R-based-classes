{
  "nbformat": 4,
  "nbformat_minor": 0,
  "metadata": {
    "kernelspec": {
      "display_name": "R",
      "language": "R",
      "name": "ir"
    },
    "language_info": {
      "codemirror_mode": "r",
      "file_extension": ".r",
      "mimetype": "text/x-r-source",
      "name": "R",
      "pygments_lexer": "r",
      "version": "3.6.1"
    },
    "colab": {
      "name": "4. Basic R Data Types - Data frame.ipynb",
      "provenance": [],
      "collapsed_sections": [],
      "toc_visible": true,
      "include_colab_link": true
    }
  },
  "cells": [
    {
      "cell_type": "markdown",
      "metadata": {
        "id": "view-in-github",
        "colab_type": "text"
      },
      "source": [
        "<a href=\"https://colab.research.google.com/github/prakashsukhwal/R-based-classes/blob/main/4_Basic_R_Data_Types_Data_frame.ipynb\" target=\"_parent\"><img src=\"https://colab.research.google.com/assets/colab-badge.svg\" alt=\"Open In Colab\"/></a>"
      ]
    },
    {
      "cell_type": "markdown",
      "metadata": {
        "id": "8El7MbiWcVtG"
      },
      "source": [
        "# 4. Dataframe\n",
        "\n",
        "## Use the Link below to create more R notebooks\n",
        "### Note: do not forget to save your work in your google drive\n",
        "\n",
        "[Use R on Google Colab!](https://colab.research.google.com/notebook#create=true&language=r)"
      ]
    },
    {
      "cell_type": "code",
      "metadata": {
        "id": "GMVioHnncNvr"
      },
      "source": [
        "# uncomment run the code below only if you do not have 'pacman' installed\n",
        "install.packages('pacman', repos = \"http://cran.us.r-project.org\")"
      ],
      "execution_count": null,
      "outputs": []
    },
    {
      "cell_type": "code",
      "metadata": {
        "id": "lAvIMb6DcNvs"
      },
      "source": [
        "# using this we load the libraries (it installs the ones we do not have in our system)\n",
        "pacman::p_load(tidyverse, FRACTION, lubridate, IRdisplay)"
      ],
      "execution_count": null,
      "outputs": []
    },
    {
      "cell_type": "markdown",
      "metadata": {
        "id": "SkjIhOOKcNvs"
      },
      "source": [
        "## Create "
      ]
    },
    {
      "cell_type": "code",
      "metadata": {
        "id": "Jaj-j036cNvs"
      },
      "source": [
        "##### Create"
      ],
      "execution_count": null,
      "outputs": []
    },
    {
      "cell_type": "code",
      "metadata": {
        "id": "24ZCcVDJcNvt"
      },
      "source": [
        "set.seed(100)\n",
        "student_id = 101:105\n",
        "\n",
        "age = sample(15:20, replace = TRUE, size = 5)\n",
        "\n",
        "gender = sample(c(\"M\",\"F\"), 5, replace=TRUE, prob = c(0.6,0.4))"
      ],
      "execution_count": 1,
      "outputs": []
    },
    {
      "cell_type": "code",
      "metadata": {
        "id": "hAKzEOstcNvt"
      },
      "source": [
        "student_id = 101:105\n",
        "\n",
        "age = sample(15:20, replace = TRUE, size = 5)\n",
        "\n",
        "gender = sample(c(\"M\",\"F\"), 5, replace=TRUE, prob = c(0.6,0.4))\n",
        "class_data = data.frame(student_id, gender, age)\n",
        "\n",
        "\n"
      ],
      "execution_count": 2,
      "outputs": []
    },
    {
      "cell_type": "code",
      "metadata": {
        "id": "msB6NMTFcNvt"
      },
      "source": [
        "class_data = data.frame(student_id, gender, age)"
      ],
      "execution_count": 3,
      "outputs": []
    },
    {
      "cell_type": "code",
      "metadata": {
        "id": "ZVKwsVg5cNvu",
        "colab": {
          "base_uri": "https://localhost:8080/"
        },
        "outputId": "ede14d94-c8a1-42a9-dd2e-1a1e5cef8e6f"
      },
      "source": [
        "str(class_data)"
      ],
      "execution_count": 4,
      "outputs": [
        {
          "output_type": "stream",
          "text": [
            "'data.frame':\t5 obs. of  3 variables:\n",
            " $ student_id: int  101 102 103 104 105\n",
            " $ gender    : chr  \"F\" \"M\" \"F\" \"M\" ...\n",
            " $ age       : int  20 18 20 16 17\n"
          ],
          "name": "stdout"
        }
      ]
    },
    {
      "cell_type": "code",
      "metadata": {
        "id": "Vxq3GuM9cNvv"
      },
      "source": [
        "class_data = data.frame(student_id, gender, age, stringsAsFactors = FALSE)"
      ],
      "execution_count": 5,
      "outputs": []
    },
    {
      "cell_type": "code",
      "metadata": {
        "id": "nEpuSljPcNvv",
        "colab": {
          "base_uri": "https://localhost:8080/"
        },
        "outputId": "ce6551de-d7c7-47e7-a9f7-a8a5a69c96ff"
      },
      "source": [
        "str(class_data)"
      ],
      "execution_count": 6,
      "outputs": [
        {
          "output_type": "stream",
          "text": [
            "'data.frame':\t5 obs. of  3 variables:\n",
            " $ student_id: int  101 102 103 104 105\n",
            " $ gender    : chr  \"F\" \"M\" \"F\" \"M\" ...\n",
            " $ age       : int  20 18 20 16 17\n"
          ],
          "name": "stdout"
        }
      ]
    },
    {
      "cell_type": "code",
      "metadata": {
        "id": "ioru4cgscNvv"
      },
      "source": [
        ""
      ],
      "execution_count": null,
      "outputs": []
    },
    {
      "cell_type": "markdown",
      "metadata": {
        "id": "ECuuZGoBcNvv"
      },
      "source": [
        "## Type & Properties"
      ]
    },
    {
      "cell_type": "code",
      "metadata": {
        "id": "RRqesPJ0cNvw"
      },
      "source": [
        "##### Type & Properties"
      ],
      "execution_count": null,
      "outputs": []
    },
    {
      "cell_type": "code",
      "metadata": {
        "id": "ph5r7L9ZcNvw",
        "colab": {
          "base_uri": "https://localhost:8080/",
          "height": 50
        },
        "outputId": "c5626803-f27f-4ddf-8334-7bb6614d3498"
      },
      "source": [
        "class(class_data)\n",
        "is.data.frame(class_data)"
      ],
      "execution_count": 7,
      "outputs": [
        {
          "output_type": "display_data",
          "data": {
            "text/plain": [
              "[1] \"data.frame\""
            ],
            "text/latex": "'data.frame'",
            "text/markdown": "'data.frame'",
            "text/html": [
              "'data.frame'"
            ]
          },
          "metadata": {
            "tags": []
          }
        },
        {
          "output_type": "display_data",
          "data": {
            "text/plain": [
              "[1] TRUE"
            ],
            "text/latex": "TRUE",
            "text/markdown": "TRUE",
            "text/html": [
              "TRUE"
            ]
          },
          "metadata": {
            "tags": []
          }
        }
      ]
    },
    {
      "cell_type": "code",
      "metadata": {
        "id": "zHygsDVOcNvw",
        "colab": {
          "base_uri": "https://localhost:8080/",
          "height": 33
        },
        "outputId": "7e9e4c55-6a2b-4a1c-d6c2-3d1d9912c606"
      },
      "source": [
        "dim(class_data)"
      ],
      "execution_count": 8,
      "outputs": [
        {
          "output_type": "display_data",
          "data": {
            "text/plain": [
              "[1] 5 3"
            ],
            "text/latex": "\\begin{enumerate*}\n\\item 5\n\\item 3\n\\end{enumerate*}\n",
            "text/markdown": "1. 5\n2. 3\n\n\n",
            "text/html": [
              "<style>\n",
              ".list-inline {list-style: none; margin:0; padding: 0}\n",
              ".list-inline>li {display: inline-block}\n",
              ".list-inline>li:not(:last-child)::after {content: \"\\00b7\"; padding: 0 .5ex}\n",
              "</style>\n",
              "<ol class=list-inline><li>5</li><li>3</li></ol>\n"
            ]
          },
          "metadata": {
            "tags": []
          }
        }
      ]
    },
    {
      "cell_type": "code",
      "metadata": {
        "id": "21uwxgu7cNvw",
        "colab": {
          "base_uri": "https://localhost:8080/",
          "height": 66
        },
        "outputId": "42e47b6b-ef9a-4e8c-f0c7-8c828a55c6eb"
      },
      "source": [
        "length(class_data)\n",
        "ncol(class_data)\n",
        "nrow(class_data)"
      ],
      "execution_count": 9,
      "outputs": [
        {
          "output_type": "display_data",
          "data": {
            "text/plain": [
              "[1] 3"
            ],
            "text/latex": "3",
            "text/markdown": "3",
            "text/html": [
              "3"
            ]
          },
          "metadata": {
            "tags": []
          }
        },
        {
          "output_type": "display_data",
          "data": {
            "text/plain": [
              "[1] 3"
            ],
            "text/latex": "3",
            "text/markdown": "3",
            "text/html": [
              "3"
            ]
          },
          "metadata": {
            "tags": []
          }
        },
        {
          "output_type": "display_data",
          "data": {
            "text/plain": [
              "[1] 5"
            ],
            "text/latex": "5",
            "text/markdown": "5",
            "text/html": [
              "5"
            ]
          },
          "metadata": {
            "tags": []
          }
        }
      ]
    },
    {
      "cell_type": "code",
      "metadata": {
        "id": "62RCnwuYcNvx"
      },
      "source": [
        "names(class_data)\n",
        "colnames(class_data)"
      ],
      "execution_count": null,
      "outputs": []
    },
    {
      "cell_type": "code",
      "metadata": {
        "id": "oOxJsasDcNvx"
      },
      "source": [
        "rownames(class_data)"
      ],
      "execution_count": null,
      "outputs": []
    },
    {
      "cell_type": "code",
      "metadata": {
        "id": "JvvarB1vcNvx"
      },
      "source": [
        "attributes(class_data)"
      ],
      "execution_count": null,
      "outputs": []
    },
    {
      "cell_type": "markdown",
      "metadata": {
        "id": "yW56rHI4cNvy"
      },
      "source": [
        "## Data Access: Using Index"
      ]
    },
    {
      "cell_type": "code",
      "metadata": {
        "id": "9aR4kxLucNvy"
      },
      "source": [
        "#### Data Access: Using Index"
      ],
      "execution_count": null,
      "outputs": []
    },
    {
      "cell_type": "code",
      "metadata": {
        "id": "suUB4qm0cNvy"
      },
      "source": [
        "class_data[1,]"
      ],
      "execution_count": null,
      "outputs": []
    },
    {
      "cell_type": "code",
      "metadata": {
        "id": "tpdPN2ZOcNvy"
      },
      "source": [
        "class_data[,1]"
      ],
      "execution_count": null,
      "outputs": []
    },
    {
      "cell_type": "code",
      "metadata": {
        "id": "9JT6BhbscNvy"
      },
      "source": [
        "class_data[,1, drop=FALSE] \n",
        "# drop = F to return a data frame"
      ],
      "execution_count": null,
      "outputs": []
    },
    {
      "cell_type": "code",
      "metadata": {
        "id": "jw_9W-IkcNvz"
      },
      "source": [
        "class_data[1:2, 2:3] # Access specific data"
      ],
      "execution_count": null,
      "outputs": []
    },
    {
      "cell_type": "markdown",
      "metadata": {
        "id": "qzpAdutscNvz"
      },
      "source": [
        "## Using Names"
      ]
    },
    {
      "cell_type": "code",
      "metadata": {
        "id": "cOEBwX6bcNvz"
      },
      "source": [
        "#### Using Names"
      ],
      "execution_count": null,
      "outputs": []
    },
    {
      "cell_type": "code",
      "metadata": {
        "id": "wOSmGrgKcNvz"
      },
      "source": [
        "class_data$age"
      ],
      "execution_count": null,
      "outputs": []
    },
    {
      "cell_type": "code",
      "metadata": {
        "id": "5MwkSAMwcNvz"
      },
      "source": [
        "class_data['age']"
      ],
      "execution_count": null,
      "outputs": []
    },
    {
      "cell_type": "code",
      "metadata": {
        "id": "_WDNzFuMcNv0"
      },
      "source": [
        "class(class_data['age'])\n",
        "typeof(class_data['age'])"
      ],
      "execution_count": null,
      "outputs": []
    },
    {
      "cell_type": "code",
      "metadata": {
        "id": "XKawKHB-cNv0"
      },
      "source": [
        "class_data[, c('student_id', 'age')]"
      ],
      "execution_count": null,
      "outputs": []
    },
    {
      "cell_type": "code",
      "metadata": {
        "id": "5lHij_7ycNv0"
      },
      "source": [
        "class_data[c('1', '3'), c('student_id', 'age')]"
      ],
      "execution_count": null,
      "outputs": []
    },
    {
      "cell_type": "code",
      "metadata": {
        "id": "I5MIW6iTcNv1"
      },
      "source": [
        "str(class_data)"
      ],
      "execution_count": null,
      "outputs": []
    },
    {
      "cell_type": "markdown",
      "metadata": {
        "id": "9CV_xyx9cNv1"
      },
      "source": [
        "## Modify\n",
        "1. Change a value\n",
        "2. Add row or column\n",
        "3. Merge 2 data frames \n",
        "4. Split data frame \n",
        "5. Delete"
      ]
    },
    {
      "cell_type": "code",
      "metadata": {
        "id": "BwwbvO0ocNv1"
      },
      "source": [
        "##### Modify \n",
        "## 1. Change a value\n",
        "## 2. Add row or column\n",
        "## 3. Merge 2 data frames <br/> 4. Split data frame 5. Delete</p>"
      ],
      "execution_count": null,
      "outputs": []
    },
    {
      "cell_type": "code",
      "metadata": {
        "id": "GIxAvXQIcNv1",
        "colab": {
          "base_uri": "https://localhost:8080/",
          "height": 244
        },
        "outputId": "9a5869b1-bb69-4a76-cb46-e9192ef53414"
      },
      "source": [
        "class_data[c(1,3),\"age\"] = 16\n",
        "class_data"
      ],
      "execution_count": 10,
      "outputs": [
        {
          "output_type": "display_data",
          "data": {
            "text/plain": [
              "  student_id gender age\n",
              "1 101        F      16 \n",
              "2 102        M      18 \n",
              "3 103        F      16 \n",
              "4 104        M      16 \n",
              "5 105        M      17 "
            ],
            "text/latex": "A data.frame: 5 × 3\n\\begin{tabular}{lll}\n student\\_id & gender & age\\\\\n <int> & <chr> & <dbl>\\\\\n\\hline\n\t 101 & F & 16\\\\\n\t 102 & M & 18\\\\\n\t 103 & F & 16\\\\\n\t 104 & M & 16\\\\\n\t 105 & M & 17\\\\\n\\end{tabular}\n",
            "text/markdown": "\nA data.frame: 5 × 3\n\n| student_id &lt;int&gt; | gender &lt;chr&gt; | age &lt;dbl&gt; |\n|---|---|---|\n| 101 | F | 16 |\n| 102 | M | 18 |\n| 103 | F | 16 |\n| 104 | M | 16 |\n| 105 | M | 17 |\n\n",
            "text/html": [
              "<table class=\"dataframe\">\n",
              "<caption>A data.frame: 5 × 3</caption>\n",
              "<thead>\n",
              "\t<tr><th scope=col>student_id</th><th scope=col>gender</th><th scope=col>age</th></tr>\n",
              "\t<tr><th scope=col>&lt;int&gt;</th><th scope=col>&lt;chr&gt;</th><th scope=col>&lt;dbl&gt;</th></tr>\n",
              "</thead>\n",
              "<tbody>\n",
              "\t<tr><td>101</td><td>F</td><td>16</td></tr>\n",
              "\t<tr><td>102</td><td>M</td><td>18</td></tr>\n",
              "\t<tr><td>103</td><td>F</td><td>16</td></tr>\n",
              "\t<tr><td>104</td><td>M</td><td>16</td></tr>\n",
              "\t<tr><td>105</td><td>M</td><td>17</td></tr>\n",
              "</tbody>\n",
              "</table>\n"
            ]
          },
          "metadata": {
            "tags": []
          }
        }
      ]
    },
    {
      "cell_type": "code",
      "metadata": {
        "id": "2jAQ64n9cNv2",
        "colab": {
          "base_uri": "https://localhost:8080/",
          "height": 274
        },
        "outputId": "8880289e-515d-4afb-bbf7-bbebeb4d4d01"
      },
      "source": [
        "# Add a row\n",
        "new_student = list(106, 'F', 18)\n",
        "class_data = rbind(class_data, new_student)\n",
        "class_data"
      ],
      "execution_count": 11,
      "outputs": [
        {
          "output_type": "display_data",
          "data": {
            "text/plain": [
              "  student_id gender age\n",
              "1 101        F      16 \n",
              "2 102        M      18 \n",
              "3 103        F      16 \n",
              "4 104        M      16 \n",
              "5 105        M      17 \n",
              "6 106        F      18 "
            ],
            "text/latex": "A data.frame: 6 × 3\n\\begin{tabular}{lll}\n student\\_id & gender & age\\\\\n <dbl> & <chr> & <dbl>\\\\\n\\hline\n\t 101 & F & 16\\\\\n\t 102 & M & 18\\\\\n\t 103 & F & 16\\\\\n\t 104 & M & 16\\\\\n\t 105 & M & 17\\\\\n\t 106 & F & 18\\\\\n\\end{tabular}\n",
            "text/markdown": "\nA data.frame: 6 × 3\n\n| student_id &lt;dbl&gt; | gender &lt;chr&gt; | age &lt;dbl&gt; |\n|---|---|---|\n| 101 | F | 16 |\n| 102 | M | 18 |\n| 103 | F | 16 |\n| 104 | M | 16 |\n| 105 | M | 17 |\n| 106 | F | 18 |\n\n",
            "text/html": [
              "<table class=\"dataframe\">\n",
              "<caption>A data.frame: 6 × 3</caption>\n",
              "<thead>\n",
              "\t<tr><th scope=col>student_id</th><th scope=col>gender</th><th scope=col>age</th></tr>\n",
              "\t<tr><th scope=col>&lt;dbl&gt;</th><th scope=col>&lt;chr&gt;</th><th scope=col>&lt;dbl&gt;</th></tr>\n",
              "</thead>\n",
              "<tbody>\n",
              "\t<tr><td>101</td><td>F</td><td>16</td></tr>\n",
              "\t<tr><td>102</td><td>M</td><td>18</td></tr>\n",
              "\t<tr><td>103</td><td>F</td><td>16</td></tr>\n",
              "\t<tr><td>104</td><td>M</td><td>16</td></tr>\n",
              "\t<tr><td>105</td><td>M</td><td>17</td></tr>\n",
              "\t<tr><td>106</td><td>F</td><td>18</td></tr>\n",
              "</tbody>\n",
              "</table>\n"
            ]
          },
          "metadata": {
            "tags": []
          }
        }
      ]
    },
    {
      "cell_type": "markdown",
      "metadata": {
        "id": "rwf6v8JzcNv2"
      },
      "source": [
        "### using a condition to modify\n",
        "- 10 % discount to all younger than 16 yrs else flat 5%"
      ]
    },
    {
      "cell_type": "code",
      "metadata": {
        "id": "J032olFjcNv3"
      },
      "source": [
        "##### Using a condition to modify\n",
        "## 10 % discount to all younger than 16 yrs else flat 5%"
      ],
      "execution_count": null,
      "outputs": []
    },
    {
      "cell_type": "code",
      "metadata": {
        "id": "kDifmevQcNv3",
        "colab": {
          "base_uri": "https://localhost:8080/",
          "height": 274
        },
        "outputId": "48b68e2e-3523-459d-cb5c-df6877eeb741"
      },
      "source": [
        "class_data$discount = ifelse(class_data$age < 16, 0.10, 0.05)\n",
        "class_data"
      ],
      "execution_count": 12,
      "outputs": [
        {
          "output_type": "display_data",
          "data": {
            "text/plain": [
              "  student_id gender age discount\n",
              "1 101        F      16  0.05    \n",
              "2 102        M      18  0.05    \n",
              "3 103        F      16  0.05    \n",
              "4 104        M      16  0.05    \n",
              "5 105        M      17  0.05    \n",
              "6 106        F      18  0.05    "
            ],
            "text/latex": "A data.frame: 6 × 4\n\\begin{tabular}{llll}\n student\\_id & gender & age & discount\\\\\n <dbl> & <chr> & <dbl> & <dbl>\\\\\n\\hline\n\t 101 & F & 16 & 0.05\\\\\n\t 102 & M & 18 & 0.05\\\\\n\t 103 & F & 16 & 0.05\\\\\n\t 104 & M & 16 & 0.05\\\\\n\t 105 & M & 17 & 0.05\\\\\n\t 106 & F & 18 & 0.05\\\\\n\\end{tabular}\n",
            "text/markdown": "\nA data.frame: 6 × 4\n\n| student_id &lt;dbl&gt; | gender &lt;chr&gt; | age &lt;dbl&gt; | discount &lt;dbl&gt; |\n|---|---|---|---|\n| 101 | F | 16 | 0.05 |\n| 102 | M | 18 | 0.05 |\n| 103 | F | 16 | 0.05 |\n| 104 | M | 16 | 0.05 |\n| 105 | M | 17 | 0.05 |\n| 106 | F | 18 | 0.05 |\n\n",
            "text/html": [
              "<table class=\"dataframe\">\n",
              "<caption>A data.frame: 6 × 4</caption>\n",
              "<thead>\n",
              "\t<tr><th scope=col>student_id</th><th scope=col>gender</th><th scope=col>age</th><th scope=col>discount</th></tr>\n",
              "\t<tr><th scope=col>&lt;dbl&gt;</th><th scope=col>&lt;chr&gt;</th><th scope=col>&lt;dbl&gt;</th><th scope=col>&lt;dbl&gt;</th></tr>\n",
              "</thead>\n",
              "<tbody>\n",
              "\t<tr><td>101</td><td>F</td><td>16</td><td>0.05</td></tr>\n",
              "\t<tr><td>102</td><td>M</td><td>18</td><td>0.05</td></tr>\n",
              "\t<tr><td>103</td><td>F</td><td>16</td><td>0.05</td></tr>\n",
              "\t<tr><td>104</td><td>M</td><td>16</td><td>0.05</td></tr>\n",
              "\t<tr><td>105</td><td>M</td><td>17</td><td>0.05</td></tr>\n",
              "\t<tr><td>106</td><td>F</td><td>18</td><td>0.05</td></tr>\n",
              "</tbody>\n",
              "</table>\n"
            ]
          },
          "metadata": {
            "tags": []
          }
        }
      ]
    },
    {
      "cell_type": "code",
      "metadata": {
        "id": "hsLaamPGfq5h"
      },
      "source": [
        "class_data$discount = NULL"
      ],
      "execution_count": 13,
      "outputs": []
    },
    {
      "cell_type": "code",
      "metadata": {
        "id": "X4TQipUncNv2"
      },
      "source": [
        "# Add a column; call it 'height'\n",
        "height = sample(150:180, replace = TRUE, size = 6)"
      ],
      "execution_count": 14,
      "outputs": []
    },
    {
      "cell_type": "code",
      "metadata": {
        "id": "IxI5Q_wrcNv2",
        "colab": {
          "base_uri": "https://localhost:8080/",
          "height": 274
        },
        "outputId": "32c86fe9-b560-4152-a785-3c998b96b8c1"
      },
      "source": [
        "class_data$height = height # can also use cbind()\n",
        "class_data"
      ],
      "execution_count": 15,
      "outputs": [
        {
          "output_type": "display_data",
          "data": {
            "text/plain": [
              "  student_id gender age height\n",
              "1 101        F      16  168   \n",
              "2 102        M      18  157   \n",
              "3 103        F      16  167   \n",
              "4 104        M      16  174   \n",
              "5 105        M      17  151   \n",
              "6 106        F      18  168   "
            ],
            "text/latex": "A data.frame: 6 × 4\n\\begin{tabular}{llll}\n student\\_id & gender & age & height\\\\\n <dbl> & <chr> & <dbl> & <int>\\\\\n\\hline\n\t 101 & F & 16 & 168\\\\\n\t 102 & M & 18 & 157\\\\\n\t 103 & F & 16 & 167\\\\\n\t 104 & M & 16 & 174\\\\\n\t 105 & M & 17 & 151\\\\\n\t 106 & F & 18 & 168\\\\\n\\end{tabular}\n",
            "text/markdown": "\nA data.frame: 6 × 4\n\n| student_id &lt;dbl&gt; | gender &lt;chr&gt; | age &lt;dbl&gt; | height &lt;int&gt; |\n|---|---|---|---|\n| 101 | F | 16 | 168 |\n| 102 | M | 18 | 157 |\n| 103 | F | 16 | 167 |\n| 104 | M | 16 | 174 |\n| 105 | M | 17 | 151 |\n| 106 | F | 18 | 168 |\n\n",
            "text/html": [
              "<table class=\"dataframe\">\n",
              "<caption>A data.frame: 6 × 4</caption>\n",
              "<thead>\n",
              "\t<tr><th scope=col>student_id</th><th scope=col>gender</th><th scope=col>age</th><th scope=col>height</th></tr>\n",
              "\t<tr><th scope=col>&lt;dbl&gt;</th><th scope=col>&lt;chr&gt;</th><th scope=col>&lt;dbl&gt;</th><th scope=col>&lt;int&gt;</th></tr>\n",
              "</thead>\n",
              "<tbody>\n",
              "\t<tr><td>101</td><td>F</td><td>16</td><td>168</td></tr>\n",
              "\t<tr><td>102</td><td>M</td><td>18</td><td>157</td></tr>\n",
              "\t<tr><td>103</td><td>F</td><td>16</td><td>167</td></tr>\n",
              "\t<tr><td>104</td><td>M</td><td>16</td><td>174</td></tr>\n",
              "\t<tr><td>105</td><td>M</td><td>17</td><td>151</td></tr>\n",
              "\t<tr><td>106</td><td>F</td><td>18</td><td>168</td></tr>\n",
              "</tbody>\n",
              "</table>\n"
            ]
          },
          "metadata": {
            "tags": []
          }
        }
      ]
    },
    {
      "cell_type": "markdown",
      "metadata": {
        "id": "DZuOI6JJcNv3"
      },
      "source": [
        "## Merge"
      ]
    },
    {
      "cell_type": "code",
      "metadata": {
        "id": "Xv5D60_-cNv3"
      },
      "source": [
        "#### Merge"
      ],
      "execution_count": null,
      "outputs": []
    },
    {
      "cell_type": "code",
      "metadata": {
        "id": "k9ejtn-7cNv3",
        "colab": {
          "base_uri": "https://localhost:8080/",
          "height": 274
        },
        "outputId": "fec633e8-4533-4492-a5e0-cc12b28cddd4"
      },
      "source": [
        "class_additional_info = data.frame(student_id = 101:106, \n",
        "                        nationality = sample(c(\"Asian\",\n",
        "                         \"European\", \"Japanese\"), \n",
        "                          size = 6, \n",
        "                          replace=TRUE),\n",
        "                          stringsAsFactors = F)\n",
        "class_additional_info"
      ],
      "execution_count": 16,
      "outputs": [
        {
          "output_type": "display_data",
          "data": {
            "text/plain": [
              "  student_id nationality\n",
              "1 101        European   \n",
              "2 102        Asian      \n",
              "3 103        Japanese   \n",
              "4 104        Japanese   \n",
              "5 105        Asian      \n",
              "6 106        Japanese   "
            ],
            "text/latex": "A data.frame: 6 × 2\n\\begin{tabular}{ll}\n student\\_id & nationality\\\\\n <int> & <chr>\\\\\n\\hline\n\t 101 & European\\\\\n\t 102 & Asian   \\\\\n\t 103 & Japanese\\\\\n\t 104 & Japanese\\\\\n\t 105 & Asian   \\\\\n\t 106 & Japanese\\\\\n\\end{tabular}\n",
            "text/markdown": "\nA data.frame: 6 × 2\n\n| student_id &lt;int&gt; | nationality &lt;chr&gt; |\n|---|---|\n| 101 | European |\n| 102 | Asian    |\n| 103 | Japanese |\n| 104 | Japanese |\n| 105 | Asian    |\n| 106 | Japanese |\n\n",
            "text/html": [
              "<table class=\"dataframe\">\n",
              "<caption>A data.frame: 6 × 2</caption>\n",
              "<thead>\n",
              "\t<tr><th scope=col>student_id</th><th scope=col>nationality</th></tr>\n",
              "\t<tr><th scope=col>&lt;int&gt;</th><th scope=col>&lt;chr&gt;</th></tr>\n",
              "</thead>\n",
              "<tbody>\n",
              "\t<tr><td>101</td><td>European</td></tr>\n",
              "\t<tr><td>102</td><td>Asian   </td></tr>\n",
              "\t<tr><td>103</td><td>Japanese</td></tr>\n",
              "\t<tr><td>104</td><td>Japanese</td></tr>\n",
              "\t<tr><td>105</td><td>Asian   </td></tr>\n",
              "\t<tr><td>106</td><td>Japanese</td></tr>\n",
              "</tbody>\n",
              "</table>\n"
            ]
          },
          "metadata": {
            "tags": []
          }
        }
      ]
    },
    {
      "cell_type": "code",
      "metadata": {
        "id": "6wUibYg8cNv4"
      },
      "source": [
        "# merge addtional info. with class_data\n",
        "class_modified = merge(class_data, \n",
        "                       class_additional_info, \n",
        "                       by=\"student_id\")"
      ],
      "execution_count": 17,
      "outputs": []
    },
    {
      "cell_type": "code",
      "metadata": {
        "id": "6MYsjprtcNv4",
        "colab": {
          "base_uri": "https://localhost:8080/",
          "height": 274
        },
        "outputId": "006c9656-8125-45ce-9414-8e08b388074a"
      },
      "source": [
        "class_modified"
      ],
      "execution_count": 18,
      "outputs": [
        {
          "output_type": "display_data",
          "data": {
            "text/plain": [
              "  student_id gender age height nationality\n",
              "1 101        F      16  168    European   \n",
              "2 102        M      18  157    Asian      \n",
              "3 103        F      16  167    Japanese   \n",
              "4 104        M      16  174    Japanese   \n",
              "5 105        M      17  151    Asian      \n",
              "6 106        F      18  168    Japanese   "
            ],
            "text/latex": "A data.frame: 6 × 5\n\\begin{tabular}{lllll}\n student\\_id & gender & age & height & nationality\\\\\n <dbl> & <chr> & <dbl> & <int> & <chr>\\\\\n\\hline\n\t 101 & F & 16 & 168 & European\\\\\n\t 102 & M & 18 & 157 & Asian   \\\\\n\t 103 & F & 16 & 167 & Japanese\\\\\n\t 104 & M & 16 & 174 & Japanese\\\\\n\t 105 & M & 17 & 151 & Asian   \\\\\n\t 106 & F & 18 & 168 & Japanese\\\\\n\\end{tabular}\n",
            "text/markdown": "\nA data.frame: 6 × 5\n\n| student_id &lt;dbl&gt; | gender &lt;chr&gt; | age &lt;dbl&gt; | height &lt;int&gt; | nationality &lt;chr&gt; |\n|---|---|---|---|---|\n| 101 | F | 16 | 168 | European |\n| 102 | M | 18 | 157 | Asian    |\n| 103 | F | 16 | 167 | Japanese |\n| 104 | M | 16 | 174 | Japanese |\n| 105 | M | 17 | 151 | Asian    |\n| 106 | F | 18 | 168 | Japanese |\n\n",
            "text/html": [
              "<table class=\"dataframe\">\n",
              "<caption>A data.frame: 6 × 5</caption>\n",
              "<thead>\n",
              "\t<tr><th scope=col>student_id</th><th scope=col>gender</th><th scope=col>age</th><th scope=col>height</th><th scope=col>nationality</th></tr>\n",
              "\t<tr><th scope=col>&lt;dbl&gt;</th><th scope=col>&lt;chr&gt;</th><th scope=col>&lt;dbl&gt;</th><th scope=col>&lt;int&gt;</th><th scope=col>&lt;chr&gt;</th></tr>\n",
              "</thead>\n",
              "<tbody>\n",
              "\t<tr><td>101</td><td>F</td><td>16</td><td>168</td><td>European</td></tr>\n",
              "\t<tr><td>102</td><td>M</td><td>18</td><td>157</td><td>Asian   </td></tr>\n",
              "\t<tr><td>103</td><td>F</td><td>16</td><td>167</td><td>Japanese</td></tr>\n",
              "\t<tr><td>104</td><td>M</td><td>16</td><td>174</td><td>Japanese</td></tr>\n",
              "\t<tr><td>105</td><td>M</td><td>17</td><td>151</td><td>Asian   </td></tr>\n",
              "\t<tr><td>106</td><td>F</td><td>18</td><td>168</td><td>Japanese</td></tr>\n",
              "</tbody>\n",
              "</table>\n"
            ]
          },
          "metadata": {
            "tags": []
          }
        }
      ]
    },
    {
      "cell_type": "markdown",
      "metadata": {
        "id": "GstLPVXq3wg-"
      },
      "source": [
        "## Condition based creation"
      ]
    },
    {
      "cell_type": "code",
      "metadata": {
        "colab": {
          "base_uri": "https://localhost:8080/",
          "height": 274
        },
        "id": "D5UbbQ_H32ET",
        "outputId": "cf76f3fb-f7ce-4d0d-a39a-d2712f292080"
      },
      "source": [
        "############################################################################\n",
        "#age < 16 in group A, 16<= age < 18 B, rest C\n",
        "############################################################################\n",
        "class_modified$level[class_modified$age < 16] = 'A'\n",
        "class_modified$level[class_modified$age >= 16 & class_modified$age < 18] = 'B'\n",
        "class_modified$level[class_modified$age >= 18] = 'C'\n",
        "\n",
        "\n",
        "############################################################################\n",
        "#if id is even 'E' else 'O'\n",
        "############################################################################\n",
        "\n",
        "class_modified$oddeven = ifelse(class_modified$student_id %%2 !=0, 'O', 'E')\n",
        "class_modified"
      ],
      "execution_count": 21,
      "outputs": [
        {
          "output_type": "display_data",
          "data": {
            "text/plain": [
              "  student_id gender age height nationality level oddeven\n",
              "1 101        F      16  168    European    B     O      \n",
              "2 102        M      18  157    Asian       C     E      \n",
              "3 103        F      16  167    Japanese    B     O      \n",
              "4 104        M      16  174    Japanese    B     E      \n",
              "5 105        M      17  151    Asian       B     O      \n",
              "6 106        F      18  168    Japanese    C     E      "
            ],
            "text/latex": "A data.frame: 6 × 7\n\\begin{tabular}{lllllll}\n student\\_id & gender & age & height & nationality & level & oddeven\\\\\n <dbl> & <chr> & <dbl> & <int> & <chr> & <chr> & <chr>\\\\\n\\hline\n\t 101 & F & 16 & 168 & European & B & O\\\\\n\t 102 & M & 18 & 157 & Asian    & C & E\\\\\n\t 103 & F & 16 & 167 & Japanese & B & O\\\\\n\t 104 & M & 16 & 174 & Japanese & B & E\\\\\n\t 105 & M & 17 & 151 & Asian    & B & O\\\\\n\t 106 & F & 18 & 168 & Japanese & C & E\\\\\n\\end{tabular}\n",
            "text/markdown": "\nA data.frame: 6 × 7\n\n| student_id &lt;dbl&gt; | gender &lt;chr&gt; | age &lt;dbl&gt; | height &lt;int&gt; | nationality &lt;chr&gt; | level &lt;chr&gt; | oddeven &lt;chr&gt; |\n|---|---|---|---|---|---|---|\n| 101 | F | 16 | 168 | European | B | O |\n| 102 | M | 18 | 157 | Asian    | C | E |\n| 103 | F | 16 | 167 | Japanese | B | O |\n| 104 | M | 16 | 174 | Japanese | B | E |\n| 105 | M | 17 | 151 | Asian    | B | O |\n| 106 | F | 18 | 168 | Japanese | C | E |\n\n",
            "text/html": [
              "<table class=\"dataframe\">\n",
              "<caption>A data.frame: 6 × 7</caption>\n",
              "<thead>\n",
              "\t<tr><th scope=col>student_id</th><th scope=col>gender</th><th scope=col>age</th><th scope=col>height</th><th scope=col>nationality</th><th scope=col>level</th><th scope=col>oddeven</th></tr>\n",
              "\t<tr><th scope=col>&lt;dbl&gt;</th><th scope=col>&lt;chr&gt;</th><th scope=col>&lt;dbl&gt;</th><th scope=col>&lt;int&gt;</th><th scope=col>&lt;chr&gt;</th><th scope=col>&lt;chr&gt;</th><th scope=col>&lt;chr&gt;</th></tr>\n",
              "</thead>\n",
              "<tbody>\n",
              "\t<tr><td>101</td><td>F</td><td>16</td><td>168</td><td>European</td><td>B</td><td>O</td></tr>\n",
              "\t<tr><td>102</td><td>M</td><td>18</td><td>157</td><td>Asian   </td><td>C</td><td>E</td></tr>\n",
              "\t<tr><td>103</td><td>F</td><td>16</td><td>167</td><td>Japanese</td><td>B</td><td>O</td></tr>\n",
              "\t<tr><td>104</td><td>M</td><td>16</td><td>174</td><td>Japanese</td><td>B</td><td>E</td></tr>\n",
              "\t<tr><td>105</td><td>M</td><td>17</td><td>151</td><td>Asian   </td><td>B</td><td>O</td></tr>\n",
              "\t<tr><td>106</td><td>F</td><td>18</td><td>168</td><td>Japanese</td><td>C</td><td>E</td></tr>\n",
              "</tbody>\n",
              "</table>\n"
            ]
          },
          "metadata": {
            "tags": []
          }
        }
      ]
    },
    {
      "cell_type": "code",
      "metadata": {
        "id": "4Q0FFslW32G9"
      },
      "source": [
        ""
      ],
      "execution_count": null,
      "outputs": []
    },
    {
      "cell_type": "markdown",
      "metadata": {
        "id": "K_62nqLdcNv4"
      },
      "source": [
        "## Split"
      ]
    },
    {
      "cell_type": "code",
      "metadata": {
        "id": "G6Vz-Y7ZcNv4"
      },
      "source": [
        "#### Split"
      ],
      "execution_count": null,
      "outputs": []
    },
    {
      "cell_type": "code",
      "metadata": {
        "id": "xIseiYqqcNv4"
      },
      "source": [
        "# split based on a column\n",
        "(class_split = split(class_modified, class_modified$gender))"
      ],
      "execution_count": null,
      "outputs": []
    },
    {
      "cell_type": "code",
      "metadata": {
        "id": "jAkJ3CYgcNv4"
      },
      "source": [
        "#### Delete"
      ],
      "execution_count": null,
      "outputs": []
    },
    {
      "cell_type": "markdown",
      "metadata": {
        "id": "LFEdAtCacNv5"
      },
      "source": [
        "## Delete\n",
        "\n"
      ]
    },
    {
      "cell_type": "code",
      "metadata": {
        "id": "NQ_lv6E6cNv5"
      },
      "source": [
        "# row\n",
        "class_modified[-1,]"
      ],
      "execution_count": null,
      "outputs": []
    },
    {
      "cell_type": "code",
      "metadata": {
        "id": "_cwUBvhscNv5"
      },
      "source": [
        "# column\n",
        "class_data$height = NULL\n",
        "names(class_data)"
      ],
      "execution_count": null,
      "outputs": []
    }
  ]
}